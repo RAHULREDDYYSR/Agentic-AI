{
 "cells": [
  {
   "cell_type": "markdown",
   "id": "eb99e074",
   "metadata": {},
   "source": [
    "## Streaming\n",
    "\n",
    "<p1>Methods: .stream() and astream()</p1>\n",
    "- These methods are sync and async methods for streaming back results\n",
    "<br>\n",
    "\n",
    "<p1>Additional parameters in Streaming modes for graph state</p1>\n",
    "\n",
    "- Values: This streams the full state of the graph after each node is called\n",
    "- updates: This streams updates to the state of the graph after each node is called"
   ]
  },
  {
   "cell_type": "code",
   "execution_count": 1,
   "id": "b355a119",
   "metadata": {},
   "outputs": [],
   "source": [
    "from typing_extensions import TypedDict\n",
    "from langgraph.graph import StateGraph, START, END\n",
    "\n",
    "from dotenv import load_dotenv\n",
    "load_dotenv()\n",
    "\n",
    "## Reducers\n",
    "from typing import Annotated\n",
    "from langgraph.graph.message import add_messages"
   ]
  },
  {
   "cell_type": "code",
   "execution_count": 2,
   "id": "f10759cc",
   "metadata": {},
   "outputs": [
    {
     "data": {
      "text/plain": [
       "'Hello! How can I assist you today?'"
      ]
     },
     "execution_count": 2,
     "metadata": {},
     "output_type": "execute_result"
    }
   ],
   "source": [
    "class State(TypedDict):\n",
    "    messages:Annotated[list,add_messages]\n",
    "\n",
    "from langchain_openai import ChatOpenAI\n",
    "llm = ChatOpenAI(model='gpt-4.1-nano')\n",
    "llm.invoke(\"Hello\").content"
   ]
  },
  {
   "cell_type": "markdown",
   "id": "7fb797f8",
   "metadata": {},
   "source": [
    "### We Will Start With Creating Nodes\n",
    "\n"
   ]
  },
  {
   "cell_type": "code",
   "execution_count": 3,
   "id": "5bedf207",
   "metadata": {},
   "outputs": [],
   "source": [
    "from langgraph.checkpoint.memory import MemorySaver\n",
    "memory = MemorySaver()\n",
    "\n",
    "def superbot(state:State):\n",
    "    return {\"messages\": [llm.invoke(state[\"messages\"])]}"
   ]
  },
  {
   "cell_type": "code",
   "execution_count": 4,
   "id": "fdcd33c7",
   "metadata": {},
   "outputs": [
    {
     "data": {
      "image/png": "[encoded data removed]",
      "text/plain": [
       "<IPython.core.display.Image object>"
      ]
     },
     "metadata": {},
     "output_type": "display_data"
    }
   ],
   "source": [
    "graph = StateGraph(state_schema=State)\n",
    "\n",
    "## node\n",
    "graph.add_node('superbot', superbot)\n",
    "\n",
    "## edges\n",
    "graph.add_edge(START,'superbot')\n",
    "graph.add_edge('superbot',END)\n",
    "\n",
    "\n",
    "from IPython.display import Image, display\n",
    "graph = graph.compile(checkpointer=memory)\n",
    "\n",
    "display(Image(graph.get_graph().draw_mermaid_png()))"
   ]
  },
  {
   "cell_type": "code",
   "execution_count": 5,
   "id": "99b58993",
   "metadata": {},
   "outputs": [
    {
     "data": {
      "text/plain": [
       "{'messages': [HumanMessage(content='hi, my name is Rahul and I like OnePiece', additional_kwargs={}, response_metadata={}, id='d19d847a-1166-4280-9985-d77922252664'),\n",
       "  AIMessage(content=\"Hi Rahul! It's great to meet a One Piece fan. Who's your favorite character in the series?\", additional_kwargs={'refusal': None}, response_metadata={'token_usage': {'completion_tokens': 21, 'prompt_tokens': 18, 'total_tokens': 39, 'completion_tokens_details': {'accepted_prediction_tokens': 0, 'audio_tokens': 0, 'reasoning_tokens': 0, 'rejected_prediction_tokens': 0}, 'prompt_tokens_details': {'audio_tokens': 0, 'cached_tokens': 0}}, 'model_name': 'gpt-4.1-nano-2025-04-14', 'system_fingerprint': 'fp_38343a2f8f', 'id': 'chatcmpl-BrSIOVmd1j3LS5HJQ5Sj23ZTLn5aV', 'service_tier': 'default', 'finish_reason': 'stop', 'logprobs': None}, id='run--841c0b95-ec68-4cee-ab69-eca9aff6f3fe-0', usage_metadata={'input_tokens': 18, 'output_tokens': 21, 'total_tokens': 39, 'input_token_details': {'audio': 0, 'cache_read': 0}, 'output_token_details': {'audio': 0, 'reasoning': 0}})]}"
      ]
     },
     "execution_count": 5,
     "metadata": {},
     "output_type": "execute_result"
    }
   ],
   "source": [
    "## Invocation\n",
    "config = {'configurable': {'thread_id':'1'}}\n",
    "\n",
    "graph.invoke(\n",
    "    {\n",
    "        'messages':'hi, my name is Rahul and I like OnePiece'\n",
    "    },\n",
    "    config=config\n",
    ")"
   ]
  },
  {
   "cell_type": "markdown",
   "id": "c3e87be9",
   "metadata": {},
   "source": [
    "## Streaming the Response with stream methods"
   ]
  },
  {
   "cell_type": "code",
   "execution_count": 6,
   "id": "bfb9065f",
   "metadata": {},
   "outputs": [],
   "source": [
    "# Create a thread\n",
    "config = {'configurable':{'thread_id':'2'}}"
   ]
  },
  {
   "cell_type": "code",
   "execution_count": 7,
   "id": "168aff8a",
   "metadata": {},
   "outputs": [
    {
     "name": "stdout",
     "output_type": "stream",
     "text": [
      "{'superbot': {'messages': [AIMessage(content=\"Hi Rahul! That's great to hear—you’re a fan of One Piece too? It's such an amazing series with incredible characters and adventures. Do you have a favorite character or arc?\", additional_kwargs={'refusal': None}, response_metadata={'token_usage': {'completion_tokens': 36, 'prompt_tokens': 18, 'total_tokens': 54, 'completion_tokens_details': {'accepted_prediction_tokens': 0, 'audio_tokens': 0, 'reasoning_tokens': 0, 'rejected_prediction_tokens': 0}, 'prompt_tokens_details': {'audio_tokens': 0, 'cached_tokens': 0}}, 'model_name': 'gpt-4.1-nano-2025-04-14', 'system_fingerprint': 'fp_f12167b370', 'id': 'chatcmpl-BrSLwJ2sdfpaZgPebGEh0xklxQckE', 'service_tier': 'default', 'finish_reason': 'stop', 'logprobs': None}, id='run--d7150ad8-e18b-4326-a12c-8045b3da6381-0', usage_metadata={'input_tokens': 18, 'output_tokens': 36, 'total_tokens': 54, 'input_token_details': {'audio': 0, 'cache_read': 0}, 'output_token_details': {'audio': 0, 'reasoning': 0}})]}}\n"
     ]
    }
   ],
   "source": [
    "for chunk in graph.stream({\n",
    "        'messages':'hi, my name is Rahul and I like OnePiece'\n",
    "    },\n",
    "    config=config,\n",
    "    stream_mode='updates'):\n",
    "    print(chunk)\n"
   ]
  },
  {
   "cell_type": "code",
   "execution_count": 8,
   "id": "4353e239",
   "metadata": {},
   "outputs": [
    {
     "name": "stdout",
     "output_type": "stream",
     "text": [
      "{'messages': [HumanMessage(content='hi, my name is Rahul and I like OnePiece', additional_kwargs={}, response_metadata={}, id='4e81aa5c-f4e3-4118-a25a-b124a2f30b01'), AIMessage(content=\"Hi Rahul! That's great to hear—you’re a fan of One Piece too? It's such an amazing series with incredible characters and adventures. Do you have a favorite character or arc?\", additional_kwargs={'refusal': None}, response_metadata={'token_usage': {'completion_tokens': 36, 'prompt_tokens': 18, 'total_tokens': 54, 'completion_tokens_details': {'accepted_prediction_tokens': 0, 'audio_tokens': 0, 'reasoning_tokens': 0, 'rejected_prediction_tokens': 0}, 'prompt_tokens_details': {'audio_tokens': 0, 'cached_tokens': 0}}, 'model_name': 'gpt-4.1-nano-2025-04-14', 'system_fingerprint': 'fp_f12167b370', 'id': 'chatcmpl-BrSLwJ2sdfpaZgPebGEh0xklxQckE', 'service_tier': 'default', 'finish_reason': 'stop', 'logprobs': None}, id='run--d7150ad8-e18b-4326-a12c-8045b3da6381-0', usage_metadata={'input_tokens': 18, 'output_tokens': 36, 'total_tokens': 54, 'input_token_details': {'audio': 0, 'cache_read': 0}, 'output_token_details': {'audio': 0, 'reasoning': 0}}), HumanMessage(content='hi, my name is Rahul and I like OnePiece', additional_kwargs={}, response_metadata={}, id='4596f195-b2e7-48bc-a0c1-d95ce1e9f7a4')]}\n",
      "{'messages': [HumanMessage(content='hi, my name is Rahul and I like OnePiece', additional_kwargs={}, response_metadata={}, id='4e81aa5c-f4e3-4118-a25a-b124a2f30b01'), AIMessage(content=\"Hi Rahul! That's great to hear—you’re a fan of One Piece too? It's such an amazing series with incredible characters and adventures. Do you have a favorite character or arc?\", additional_kwargs={'refusal': None}, response_metadata={'token_usage': {'completion_tokens': 36, 'prompt_tokens': 18, 'total_tokens': 54, 'completion_tokens_details': {'accepted_prediction_tokens': 0, 'audio_tokens': 0, 'reasoning_tokens': 0, 'rejected_prediction_tokens': 0}, 'prompt_tokens_details': {'audio_tokens': 0, 'cached_tokens': 0}}, 'model_name': 'gpt-4.1-nano-2025-04-14', 'system_fingerprint': 'fp_f12167b370', 'id': 'chatcmpl-BrSLwJ2sdfpaZgPebGEh0xklxQckE', 'service_tier': 'default', 'finish_reason': 'stop', 'logprobs': None}, id='run--d7150ad8-e18b-4326-a12c-8045b3da6381-0', usage_metadata={'input_tokens': 18, 'output_tokens': 36, 'total_tokens': 54, 'input_token_details': {'audio': 0, 'cache_read': 0}, 'output_token_details': {'audio': 0, 'reasoning': 0}}), HumanMessage(content='hi, my name is Rahul and I like OnePiece', additional_kwargs={}, response_metadata={}, id='4596f195-b2e7-48bc-a0c1-d95ce1e9f7a4'), AIMessage(content='Hi Rahul! Nice to meet you. I’m glad to hear you like One Piece—it’s such an exciting and adventurous series. Do you have a favorite character or arc from the series?', additional_kwargs={'refusal': None}, response_metadata={'token_usage': {'completion_tokens': 38, 'prompt_tokens': 73, 'total_tokens': 111, 'completion_tokens_details': {'accepted_prediction_tokens': 0, 'audio_tokens': 0, 'reasoning_tokens': 0, 'rejected_prediction_tokens': 0}, 'prompt_tokens_details': {'audio_tokens': 0, 'cached_tokens': 0}}, 'model_name': 'gpt-4.1-nano-2025-04-14', 'system_fingerprint': 'fp_f12167b370', 'id': 'chatcmpl-BrSMibWtJJe09JZydrgXr3VpYaqDA', 'service_tier': 'default', 'finish_reason': 'stop', 'logprobs': None}, id='run--321477ea-5335-414a-8c53-21ed20ed4715-0', usage_metadata={'input_tokens': 73, 'output_tokens': 38, 'total_tokens': 111, 'input_token_details': {'audio': 0, 'cache_read': 0}, 'output_token_details': {'audio': 0, 'reasoning': 0}})]}\n"
     ]
    }
   ],
   "source": [
    "for chunk in graph.stream({\n",
    "        'messages':'hi, my name is Rahul and I like OnePiece'\n",
    "    },\n",
    "    config=config,\n",
    "    stream_mode='values'):\n",
    "    print(chunk)"
   ]
  },
  {
   "cell_type": "code",
   "execution_count": 9,
   "id": "02122ec1",
   "metadata": {},
   "outputs": [
    {
     "name": "stdout",
     "output_type": "stream",
     "text": [
      "{'superbot': {'messages': [AIMessage(content=\"That's awesome, Rahul! Roronoa Zoro is a fantastic character—strong, loyal, and skilled with his swords. He's definitely a fan favorite for many. Do you like his swordsmanship style or his personality the most?\", additional_kwargs={'refusal': None}, response_metadata={'token_usage': {'completion_tokens': 47, 'prompt_tokens': 123, 'total_tokens': 170, 'completion_tokens_details': {'accepted_prediction_tokens': 0, 'audio_tokens': 0, 'reasoning_tokens': 0, 'rejected_prediction_tokens': 0}, 'prompt_tokens_details': {'audio_tokens': 0, 'cached_tokens': 0}}, 'model_name': 'gpt-4.1-nano-2025-04-14', 'system_fingerprint': 'fp_38343a2f8f', 'id': 'chatcmpl-BrSNX28zBVluLbQTGWFeVMHCTIHZB', 'service_tier': 'default', 'finish_reason': 'stop', 'logprobs': None}, id='run--db2c0f64-dc96-4e4b-ba50-9bf8b3ad2b58-0', usage_metadata={'input_tokens': 123, 'output_tokens': 47, 'total_tokens': 170, 'input_token_details': {'audio': 0, 'cache_read': 0}, 'output_token_details': {'audio': 0, 'reasoning': 0}})]}}\n"
     ]
    }
   ],
   "source": [
    "for chunk in graph.stream({\n",
    "        'messages':'i like zoro'\n",
    "    },\n",
    "    config=config,\n",
    "    stream_mode='updates'):\n",
    "    print(chunk)"
   ]
  },
  {
   "cell_type": "code",
   "execution_count": 10,
   "id": "8caf2aac",
   "metadata": {},
   "outputs": [
    {
     "name": "stdout",
     "output_type": "stream",
     "text": [
      "{'messages': [HumanMessage(content='hi, my name is Rahul and I like OnePiece', additional_kwargs={}, response_metadata={}, id='4e81aa5c-f4e3-4118-a25a-b124a2f30b01'), AIMessage(content=\"Hi Rahul! That's great to hear—you’re a fan of One Piece too? It's such an amazing series with incredible characters and adventures. Do you have a favorite character or arc?\", additional_kwargs={'refusal': None}, response_metadata={'token_usage': {'completion_tokens': 36, 'prompt_tokens': 18, 'total_tokens': 54, 'completion_tokens_details': {'accepted_prediction_tokens': 0, 'audio_tokens': 0, 'reasoning_tokens': 0, 'rejected_prediction_tokens': 0}, 'prompt_tokens_details': {'audio_tokens': 0, 'cached_tokens': 0}}, 'model_name': 'gpt-4.1-nano-2025-04-14', 'system_fingerprint': 'fp_f12167b370', 'id': 'chatcmpl-BrSLwJ2sdfpaZgPebGEh0xklxQckE', 'service_tier': 'default', 'finish_reason': 'stop', 'logprobs': None}, id='run--d7150ad8-e18b-4326-a12c-8045b3da6381-0', usage_metadata={'input_tokens': 18, 'output_tokens': 36, 'total_tokens': 54, 'input_token_details': {'audio': 0, 'cache_read': 0}, 'output_token_details': {'audio': 0, 'reasoning': 0}}), HumanMessage(content='hi, my name is Rahul and I like OnePiece', additional_kwargs={}, response_metadata={}, id='4596f195-b2e7-48bc-a0c1-d95ce1e9f7a4'), AIMessage(content='Hi Rahul! Nice to meet you. I’m glad to hear you like One Piece—it’s such an exciting and adventurous series. Do you have a favorite character or arc from the series?', additional_kwargs={'refusal': None}, response_metadata={'token_usage': {'completion_tokens': 38, 'prompt_tokens': 73, 'total_tokens': 111, 'completion_tokens_details': {'accepted_prediction_tokens': 0, 'audio_tokens': 0, 'reasoning_tokens': 0, 'rejected_prediction_tokens': 0}, 'prompt_tokens_details': {'audio_tokens': 0, 'cached_tokens': 0}}, 'model_name': 'gpt-4.1-nano-2025-04-14', 'system_fingerprint': 'fp_f12167b370', 'id': 'chatcmpl-BrSMibWtJJe09JZydrgXr3VpYaqDA', 'service_tier': 'default', 'finish_reason': 'stop', 'logprobs': None}, id='run--321477ea-5335-414a-8c53-21ed20ed4715-0', usage_metadata={'input_tokens': 73, 'output_tokens': 38, 'total_tokens': 111, 'input_token_details': {'audio': 0, 'cache_read': 0}, 'output_token_details': {'audio': 0, 'reasoning': 0}}), HumanMessage(content='i like zoro', additional_kwargs={}, response_metadata={}, id='b9703579-da84-493f-8688-9e149546aa5b'), AIMessage(content=\"That's awesome, Rahul! Roronoa Zoro is a fantastic character—strong, loyal, and skilled with his swords. He's definitely a fan favorite for many. Do you like his swordsmanship style or his personality the most?\", additional_kwargs={'refusal': None}, response_metadata={'token_usage': {'completion_tokens': 47, 'prompt_tokens': 123, 'total_tokens': 170, 'completion_tokens_details': {'accepted_prediction_tokens': 0, 'audio_tokens': 0, 'reasoning_tokens': 0, 'rejected_prediction_tokens': 0}, 'prompt_tokens_details': {'audio_tokens': 0, 'cached_tokens': 0}}, 'model_name': 'gpt-4.1-nano-2025-04-14', 'system_fingerprint': 'fp_38343a2f8f', 'id': 'chatcmpl-BrSNX28zBVluLbQTGWFeVMHCTIHZB', 'service_tier': 'default', 'finish_reason': 'stop', 'logprobs': None}, id='run--db2c0f64-dc96-4e4b-ba50-9bf8b3ad2b58-0', usage_metadata={'input_tokens': 123, 'output_tokens': 47, 'total_tokens': 170, 'input_token_details': {'audio': 0, 'cache_read': 0}, 'output_token_details': {'audio': 0, 'reasoning': 0}}), HumanMessage(content='i also like Bon Chan', additional_kwargs={}, response_metadata={}, id='afc9c6ba-f6ac-4ae9-9ffb-11a36da6f6f6')]}\n",
      "{'messages': [HumanMessage(content='hi, my name is Rahul and I like OnePiece', additional_kwargs={}, response_metadata={}, id='4e81aa5c-f4e3-4118-a25a-b124a2f30b01'), AIMessage(content=\"Hi Rahul! That's great to hear—you’re a fan of One Piece too? It's such an amazing series with incredible characters and adventures. Do you have a favorite character or arc?\", additional_kwargs={'refusal': None}, response_metadata={'token_usage': {'completion_tokens': 36, 'prompt_tokens': 18, 'total_tokens': 54, 'completion_tokens_details': {'accepted_prediction_tokens': 0, 'audio_tokens': 0, 'reasoning_tokens': 0, 'rejected_prediction_tokens': 0}, 'prompt_tokens_details': {'audio_tokens': 0, 'cached_tokens': 0}}, 'model_name': 'gpt-4.1-nano-2025-04-14', 'system_fingerprint': 'fp_f12167b370', 'id': 'chatcmpl-BrSLwJ2sdfpaZgPebGEh0xklxQckE', 'service_tier': 'default', 'finish_reason': 'stop', 'logprobs': None}, id='run--d7150ad8-e18b-4326-a12c-8045b3da6381-0', usage_metadata={'input_tokens': 18, 'output_tokens': 36, 'total_tokens': 54, 'input_token_details': {'audio': 0, 'cache_read': 0}, 'output_token_details': {'audio': 0, 'reasoning': 0}}), HumanMessage(content='hi, my name is Rahul and I like OnePiece', additional_kwargs={}, response_metadata={}, id='4596f195-b2e7-48bc-a0c1-d95ce1e9f7a4'), AIMessage(content='Hi Rahul! Nice to meet you. I’m glad to hear you like One Piece—it’s such an exciting and adventurous series. Do you have a favorite character or arc from the series?', additional_kwargs={'refusal': None}, response_metadata={'token_usage': {'completion_tokens': 38, 'prompt_tokens': 73, 'total_tokens': 111, 'completion_tokens_details': {'accepted_prediction_tokens': 0, 'audio_tokens': 0, 'reasoning_tokens': 0, 'rejected_prediction_tokens': 0}, 'prompt_tokens_details': {'audio_tokens': 0, 'cached_tokens': 0}}, 'model_name': 'gpt-4.1-nano-2025-04-14', 'system_fingerprint': 'fp_f12167b370', 'id': 'chatcmpl-BrSMibWtJJe09JZydrgXr3VpYaqDA', 'service_tier': 'default', 'finish_reason': 'stop', 'logprobs': None}, id='run--321477ea-5335-414a-8c53-21ed20ed4715-0', usage_metadata={'input_tokens': 73, 'output_tokens': 38, 'total_tokens': 111, 'input_token_details': {'audio': 0, 'cache_read': 0}, 'output_token_details': {'audio': 0, 'reasoning': 0}}), HumanMessage(content='i like zoro', additional_kwargs={}, response_metadata={}, id='b9703579-da84-493f-8688-9e149546aa5b'), AIMessage(content=\"That's awesome, Rahul! Roronoa Zoro is a fantastic character—strong, loyal, and skilled with his swords. He's definitely a fan favorite for many. Do you like his swordsmanship style or his personality the most?\", additional_kwargs={'refusal': None}, response_metadata={'token_usage': {'completion_tokens': 47, 'prompt_tokens': 123, 'total_tokens': 170, 'completion_tokens_details': {'accepted_prediction_tokens': 0, 'audio_tokens': 0, 'reasoning_tokens': 0, 'rejected_prediction_tokens': 0}, 'prompt_tokens_details': {'audio_tokens': 0, 'cached_tokens': 0}}, 'model_name': 'gpt-4.1-nano-2025-04-14', 'system_fingerprint': 'fp_38343a2f8f', 'id': 'chatcmpl-BrSNX28zBVluLbQTGWFeVMHCTIHZB', 'service_tier': 'default', 'finish_reason': 'stop', 'logprobs': None}, id='run--db2c0f64-dc96-4e4b-ba50-9bf8b3ad2b58-0', usage_metadata={'input_tokens': 123, 'output_tokens': 47, 'total_tokens': 170, 'input_token_details': {'audio': 0, 'cache_read': 0}, 'output_token_details': {'audio': 0, 'reasoning': 0}}), HumanMessage(content='i also like Bon Chan', additional_kwargs={}, response_metadata={}, id='afc9c6ba-f6ac-4ae9-9ffb-11a36da6f6f6'), AIMessage(content='That\\'s great to hear, Rahul! I think you might be referring to \"Brook,\" as \"Bon Chan\" doesn\\'t seem to match any main characters from One Piece. If you meant Brook, he\\'s a fun and cool musician with an awesome personality and a strong fighting style. \\n\\nCould you tell me more about Bon Chan? Or did you mean another character?', additional_kwargs={'refusal': None}, response_metadata={'token_usage': {'completion_tokens': 71, 'prompt_tokens': 183, 'total_tokens': 254, 'completion_tokens_details': {'accepted_prediction_tokens': 0, 'audio_tokens': 0, 'reasoning_tokens': 0, 'rejected_prediction_tokens': 0}, 'prompt_tokens_details': {'audio_tokens': 0, 'cached_tokens': 0}}, 'model_name': 'gpt-4.1-nano-2025-04-14', 'system_fingerprint': 'fp_38343a2f8f', 'id': 'chatcmpl-BrSOLHCuLynSo0KMEKb42L4rEVNT6', 'service_tier': 'default', 'finish_reason': 'stop', 'logprobs': None}, id='run--bbb8ea86-1c20-40fb-8d9c-76e493b6d9d0-0', usage_metadata={'input_tokens': 183, 'output_tokens': 71, 'total_tokens': 254, 'input_token_details': {'audio': 0, 'cache_read': 0}, 'output_token_details': {'audio': 0, 'reasoning': 0}})]}\n"
     ]
    }
   ],
   "source": [
    "for chunk in graph.stream({\n",
    "        'messages':'i also like Bon Chan'\n",
    "    },\n",
    "    config=config,\n",
    "    stream_mode='values'):\n",
    "    print(chunk)"
   ]
  },
  {
   "cell_type": "code",
   "execution_count": 23,
   "id": "d50e8812",
   "metadata": {},
   "outputs": [
    {
     "name": "stdout",
     "output_type": "stream",
     "text": [
      "{'messages': [HumanMessage(content='i am rahul i like one piece', additional_kwargs={}, response_metadata={}, id='09af1625-071f-4d53-ad5f-c78f66737e66')]}\n",
      "{'messages': [HumanMessage(content='i am rahul i like one piece', additional_kwargs={}, response_metadata={}, id='09af1625-071f-4d53-ad5f-c78f66737e66'), AIMessage(content=\"Hi Rahul! That's great to hear you like One Piece. It's such an amazing anime and manga series with an exciting adventure and memorable characters. Do you have a favorite character or arc?\", additional_kwargs={'refusal': None}, response_metadata={'token_usage': {'completion_tokens': 37, 'prompt_tokens': 15, 'total_tokens': 52, 'completion_tokens_details': {'accepted_prediction_tokens': 0, 'audio_tokens': 0, 'reasoning_tokens': 0, 'rejected_prediction_tokens': 0}, 'prompt_tokens_details': {'audio_tokens': 0, 'cached_tokens': 0}}, 'model_name': 'gpt-4.1-nano-2025-04-14', 'system_fingerprint': 'fp_38343a2f8f', 'id': 'chatcmpl-BrSU2fLMzSjmvRzaQf2Q5RV3XfrnC', 'service_tier': 'default', 'finish_reason': 'stop', 'logprobs': None}, id='run--b5858e22-9ecd-4968-9c00-74d88e664bf8-0', usage_metadata={'input_tokens': 15, 'output_tokens': 37, 'total_tokens': 52, 'input_token_details': {'audio': 0, 'cache_read': 0}, 'output_token_details': {'audio': 0, 'reasoning': 0}})]}\n"
     ]
    }
   ],
   "source": [
    "config = {'configurable':{'thread_id':'123'}}\n",
    "for chunk in graph.stream({\n",
    "        'messages':'i am rahul i like one piece'\n",
    "    },\n",
    "    config=config,\n",
    "    stream_mode='values'):\n",
    "    print(chunk)\n",
    "    "
   ]
  },
  {
   "cell_type": "code",
   "execution_count": 24,
   "id": "58bfcfe4",
   "metadata": {},
   "outputs": [
    {
     "name": "stdout",
     "output_type": "stream",
     "text": [
      "{'messages': [HumanMessage(content='i am rahul i like one piece', additional_kwargs={}, response_metadata={}, id='09af1625-071f-4d53-ad5f-c78f66737e66'), AIMessage(content=\"Hi Rahul! That's great to hear you like One Piece. It's such an amazing anime and manga series with an exciting adventure and memorable characters. Do you have a favorite character or arc?\", additional_kwargs={'refusal': None}, response_metadata={'token_usage': {'completion_tokens': 37, 'prompt_tokens': 15, 'total_tokens': 52, 'completion_tokens_details': {'accepted_prediction_tokens': 0, 'audio_tokens': 0, 'reasoning_tokens': 0, 'rejected_prediction_tokens': 0}, 'prompt_tokens_details': {'audio_tokens': 0, 'cached_tokens': 0}}, 'model_name': 'gpt-4.1-nano-2025-04-14', 'system_fingerprint': 'fp_38343a2f8f', 'id': 'chatcmpl-BrSU2fLMzSjmvRzaQf2Q5RV3XfrnC', 'service_tier': 'default', 'finish_reason': 'stop', 'logprobs': None}, id='run--b5858e22-9ecd-4968-9c00-74d88e664bf8-0', usage_metadata={'input_tokens': 15, 'output_tokens': 37, 'total_tokens': 52, 'input_token_details': {'audio': 0, 'cache_read': 0}, 'output_token_details': {'audio': 0, 'reasoning': 0}}), HumanMessage(content='i like that gay guy Bon Chan who saved luffy', additional_kwargs={}, response_metadata={}, id='eac943b4-691f-4542-aad0-1ee202f05720')]}\n",
      "{'messages': [HumanMessage(content='i am rahul i like one piece', additional_kwargs={}, response_metadata={}, id='09af1625-071f-4d53-ad5f-c78f66737e66'), AIMessage(content=\"Hi Rahul! That's great to hear you like One Piece. It's such an amazing anime and manga series with an exciting adventure and memorable characters. Do you have a favorite character or arc?\", additional_kwargs={'refusal': None}, response_metadata={'token_usage': {'completion_tokens': 37, 'prompt_tokens': 15, 'total_tokens': 52, 'completion_tokens_details': {'accepted_prediction_tokens': 0, 'audio_tokens': 0, 'reasoning_tokens': 0, 'rejected_prediction_tokens': 0}, 'prompt_tokens_details': {'audio_tokens': 0, 'cached_tokens': 0}}, 'model_name': 'gpt-4.1-nano-2025-04-14', 'system_fingerprint': 'fp_38343a2f8f', 'id': 'chatcmpl-BrSU2fLMzSjmvRzaQf2Q5RV3XfrnC', 'service_tier': 'default', 'finish_reason': 'stop', 'logprobs': None}, id='run--b5858e22-9ecd-4968-9c00-74d88e664bf8-0', usage_metadata={'input_tokens': 15, 'output_tokens': 37, 'total_tokens': 52, 'input_token_details': {'audio': 0, 'cache_read': 0}, 'output_token_details': {'audio': 0, 'reasoning': 0}}), HumanMessage(content='i like that gay guy Bon Chan who saved luffy', additional_kwargs={}, response_metadata={}, id='eac943b4-691f-4542-aad0-1ee202f05720'), AIMessage(content='It sounds like you’re a fan of Bon Clay (Bentham), the character from One Piece! He’s a very interesting and memorable character, known for his flamboyant personality and strong sense of friendship. Bon Clay is indeed someone who cares deeply for Luffy and the crew, and his actions are quite inspiring. If you want to talk more about his role or favorite moments, feel free to share!', additional_kwargs={'refusal': None}, response_metadata={'token_usage': {'completion_tokens': 81, 'prompt_tokens': 71, 'total_tokens': 152, 'completion_tokens_details': {'accepted_prediction_tokens': 0, 'audio_tokens': 0, 'reasoning_tokens': 0, 'rejected_prediction_tokens': 0}, 'prompt_tokens_details': {'audio_tokens': 0, 'cached_tokens': 0}}, 'model_name': 'gpt-4.1-nano-2025-04-14', 'system_fingerprint': 'fp_38343a2f8f', 'id': 'chatcmpl-BrSUymwE0NcXyAbwk3D7aYE0gtTjX', 'service_tier': 'default', 'finish_reason': 'stop', 'logprobs': None}, id='run--cf4fc960-4df6-48c4-b428-d25d52682603-0', usage_metadata={'input_tokens': 71, 'output_tokens': 81, 'total_tokens': 152, 'input_token_details': {'audio': 0, 'cache_read': 0}, 'output_token_details': {'audio': 0, 'reasoning': 0}})]}\n"
     ]
    }
   ],
   "source": [
    "for chunk in graph.stream({\n",
    "        'messages':'i like that gay guy Bon Chan who saved luffy'\n",
    "    },\n",
    "    config=config,\n",
    "    stream_mode='values'):\n",
    "    print(chunk)"
   ]
  },
  {
   "cell_type": "code",
   "execution_count": null,
   "id": "7f93f05e",
   "metadata": {},
   "outputs": [],
   "source": []
  }
 ],
 "metadata": {
  "kernelspec": {
   "display_name": ".venv",
   "language": "python",
   "name": "python3"
  },
  "language_info": {
   "codemirror_mode": {
    "name": "ipython",
    "version": 3
   },
   "file_extension": ".py",
   "mimetype": "text/x-python",
   "name": "python",
   "nbconvert_exporter": "python",
   "pygments_lexer": "ipython3",
   "version": "3.13.3"
  }
 },
 "nbformat": 4,
 "nbformat_minor": 5
}
