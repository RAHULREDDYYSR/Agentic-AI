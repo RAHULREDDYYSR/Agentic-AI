{
 "cells": [
  {
   "cell_type": "markdown",
   "id": "eb99e074",
   "metadata": {},
   "source": [
    "## Streaming\n",
    "\n",
    "<p1>Methods: .stream() and astream()</p1>\n",
    "- These methods are sync and async methods for streaming back results\n",
    "<br>\n",
    "\n",
    "<p1>Additional parameters in Streaming modes for graph state</p1>\n",
    "\n",
    "- Values: This streams the full state of the graph after each node is called\n",
    "- updates: This streams updates to the state of the graph after each node is called"
   ]
  },
  {
   "cell_type": "code",
   "execution_count": 1,
   "id": "b355a119",
   "metadata": {},
   "outputs": [],
   "source": [
    "from typing_extensions import TypedDict\n",
    "from langgraph.graph import StateGraph, START, END\n",
    "\n",
    "from dotenv import load_dotenv\n",
    "load_dotenv()\n",
    "\n",
    "## Reducers\n",
    "from typing import Annotated\n",
    "from langgraph.graph.message import add_messages"
   ]
  },
  {
   "cell_type": "code",
   "execution_count": 2,
   "id": "f10759cc",
   "metadata": {},
   "outputs": [
    {
     "data": {
      "text/plain": [
       "'Hello! How can I assist you today?'"
      ]
     },
     "execution_count": 2,
     "metadata": {},
     "output_type": "execute_result"
    }
   ],
   "source": [
    "class State(TypedDict):\n",
    "    messages:Annotated[list,add_messages]\n",
    "\n",
    "from langchain_openai import ChatOpenAI\n",
    "llm = ChatOpenAI(model='gpt-4.1-nano')\n",
    "llm.invoke(\"Hello\").content"
   ]
  },
  {
   "cell_type": "markdown",
   "id": "7fb797f8",
   "metadata": {},
   "source": [
    "### We Will Start With Creating Nodes\n",
    "\n"
   ]
  },
  {
   "cell_type": "code",
   "execution_count": 3,
   "id": "5bedf207",
   "metadata": {},
   "outputs": [],
   "source": [
    "from langgraph.checkpoint.memory import MemorySaver\n",
    "memory = MemorySaver()\n",
    "\n",
    "def superbot(state:State):\n",
    "    return {\"messages\": [llm.invoke(state[\"messages\"])]}"
   ]
  },
  {
   "cell_type": "code",
   "execution_count": 4,
   "id": "fdcd33c7",
   "metadata": {},
   "outputs": [
    {
     "data": {
      "image/png": "[encoded data removed]",
      "text/plain": [
       "<IPython.core.display.Image object>"
      ]
     },
     "metadata": {},
     "output_type": "display_data"
    }
   ],
   "source": [
    "graph = StateGraph(state_schema=State)\n",
    "\n",
    "## node\n",
    "graph.add_node('superbot', superbot)\n",
    "\n",
    "## edges\n",
    "graph.add_edge(START,'superbot')\n",
    "graph.add_edge('superbot',END)\n",
    "\n",
    "\n",
    "from IPython.display import Image, display\n",
    "graph = graph.compile(checkpointer=memory)\n",
    "\n",
    "display(Image(graph.get_graph().draw_mermaid_png()))"
   ]
  },
  {
   "cell_type": "code",
   "execution_count": 5,
   "id": "99b58993",
   "metadata": {},
   "outputs": [
    {
     "data": {
      "text/plain": [
       "{'messages': [HumanMessage(content='hi, my name is Rahul and I like OnePiece', additional_kwargs={}, response_metadata={}, id='a6c3eafd-e645-4192-8e2a-1ebbfba02b12'),\n",
       "  AIMessage(content=\"Hi Rahul! It's great to meet a One Piece fan. Who's your favorite character in the series?\", additional_kwargs={'refusal': None}, response_metadata={'token_usage': {'completion_tokens': 21, 'prompt_tokens': 18, 'total_tokens': 39, 'completion_tokens_details': {'accepted_prediction_tokens': 0, 'audio_tokens': 0, 'reasoning_tokens': 0, 'rejected_prediction_tokens': 0}, 'prompt_tokens_details': {'audio_tokens': 0, 'cached_tokens': 0}}, 'model_name': 'gpt-4.1-nano-2025-04-14', 'system_fingerprint': 'fp_38343a2f8f', 'id': 'chatcmpl-BreJrXf1wvHf0BkGLysBO6tScumAW', 'service_tier': 'default', 'finish_reason': 'stop', 'logprobs': None}, id='run--1c5ab56f-4d94-41c9-a6fa-17b470505781-0', usage_metadata={'input_tokens': 18, 'output_tokens': 21, 'total_tokens': 39, 'input_token_details': {'audio': 0, 'cache_read': 0}, 'output_token_details': {'audio': 0, 'reasoning': 0}})]}"
      ]
     },
     "execution_count": 5,
     "metadata": {},
     "output_type": "execute_result"
    }
   ],
   "source": [
    "## Invocation\n",
    "config = {'configurable': {'thread_id':'1'}}\n",
    "\n",
    "graph.invoke(\n",
    "    {\n",
    "        'messages':'hi, my name is Rahul and I like OnePiece'\n",
    "    },\n",
    "    config=config\n",
    ")"
   ]
  },
  {
   "cell_type": "markdown",
   "id": "c3e87be9",
   "metadata": {},
   "source": [
    "## Streaming the Response with stream methods"
   ]
  },
  {
   "cell_type": "code",
   "execution_count": 6,
   "id": "bfb9065f",
   "metadata": {},
   "outputs": [],
   "source": [
    "# Create a thread\n",
    "config = {'configurable':{'thread_id':'2'}}"
   ]
  },
  {
   "cell_type": "code",
   "execution_count": 7,
   "id": "168aff8a",
   "metadata": {},
   "outputs": [
    {
     "name": "stdout",
     "output_type": "stream",
     "text": [
      "{'superbot': {'messages': [AIMessage(content=\"Hi Rahul! It's great to meet a One Piece fan. Who's your favorite character in the series?\", additional_kwargs={'refusal': None}, response_metadata={'token_usage': {'completion_tokens': 21, 'prompt_tokens': 18, 'total_tokens': 39, 'completion_tokens_details': {'accepted_prediction_tokens': 0, 'audio_tokens': 0, 'reasoning_tokens': 0, 'rejected_prediction_tokens': 0}, 'prompt_tokens_details': {'audio_tokens': 0, 'cached_tokens': 0}}, 'model_name': 'gpt-4.1-nano-2025-04-14', 'system_fingerprint': 'fp_38343a2f8f', 'id': 'chatcmpl-BreJtzC07FyfBDrp8ALrUwTWejZAQ', 'service_tier': 'default', 'finish_reason': 'stop', 'logprobs': None}, id='run--344eae82-9e1a-49b0-905f-1d7d358ac40b-0', usage_metadata={'input_tokens': 18, 'output_tokens': 21, 'total_tokens': 39, 'input_token_details': {'audio': 0, 'cache_read': 0}, 'output_token_details': {'audio': 0, 'reasoning': 0}})]}}\n"
     ]
    }
   ],
   "source": [
    "for chunk in graph.stream({\n",
    "        'messages':'hi, my name is Rahul and I like OnePiece'\n",
    "    },\n",
    "    config=config,\n",
    "    stream_mode='updates'):\n",
    "    print(chunk)\n"
   ]
  },
  {
   "cell_type": "code",
   "execution_count": 8,
   "id": "4353e239",
   "metadata": {},
   "outputs": [
    {
     "name": "stdout",
     "output_type": "stream",
     "text": [
      "{'messages': [HumanMessage(content='hi, my name is Rahul and I like OnePiece', additional_kwargs={}, response_metadata={}, id='e20d98fe-40e1-4b83-9213-cdaa462aede7'), AIMessage(content=\"Hi Rahul! It's great to meet a One Piece fan. Who's your favorite character in the series?\", additional_kwargs={'refusal': None}, response_metadata={'token_usage': {'completion_tokens': 21, 'prompt_tokens': 18, 'total_tokens': 39, 'completion_tokens_details': {'accepted_prediction_tokens': 0, 'audio_tokens': 0, 'reasoning_tokens': 0, 'rejected_prediction_tokens': 0}, 'prompt_tokens_details': {'audio_tokens': 0, 'cached_tokens': 0}}, 'model_name': 'gpt-4.1-nano-2025-04-14', 'system_fingerprint': 'fp_38343a2f8f', 'id': 'chatcmpl-BreJtzC07FyfBDrp8ALrUwTWejZAQ', 'service_tier': 'default', 'finish_reason': 'stop', 'logprobs': None}, id='run--344eae82-9e1a-49b0-905f-1d7d358ac40b-0', usage_metadata={'input_tokens': 18, 'output_tokens': 21, 'total_tokens': 39, 'input_token_details': {'audio': 0, 'cache_read': 0}, 'output_token_details': {'audio': 0, 'reasoning': 0}}), HumanMessage(content='hi, my name is Rahul and I like OnePiece', additional_kwargs={}, response_metadata={}, id='aeb95533-7248-458f-b0e5-c541071cfeee')]}\n",
      "{'messages': [HumanMessage(content='hi, my name is Rahul and I like OnePiece', additional_kwargs={}, response_metadata={}, id='e20d98fe-40e1-4b83-9213-cdaa462aede7'), AIMessage(content=\"Hi Rahul! It's great to meet a One Piece fan. Who's your favorite character in the series?\", additional_kwargs={'refusal': None}, response_metadata={'token_usage': {'completion_tokens': 21, 'prompt_tokens': 18, 'total_tokens': 39, 'completion_tokens_details': {'accepted_prediction_tokens': 0, 'audio_tokens': 0, 'reasoning_tokens': 0, 'rejected_prediction_tokens': 0}, 'prompt_tokens_details': {'audio_tokens': 0, 'cached_tokens': 0}}, 'model_name': 'gpt-4.1-nano-2025-04-14', 'system_fingerprint': 'fp_38343a2f8f', 'id': 'chatcmpl-BreJtzC07FyfBDrp8ALrUwTWejZAQ', 'service_tier': 'default', 'finish_reason': 'stop', 'logprobs': None}, id='run--344eae82-9e1a-49b0-905f-1d7d358ac40b-0', usage_metadata={'input_tokens': 18, 'output_tokens': 21, 'total_tokens': 39, 'input_token_details': {'audio': 0, 'cache_read': 0}, 'output_token_details': {'audio': 0, 'reasoning': 0}}), HumanMessage(content='hi, my name is Rahul and I like OnePiece', additional_kwargs={}, response_metadata={}, id='aeb95533-7248-458f-b0e5-c541071cfeee'), AIMessage(content='Hi Rahul! Nice to meet you. I’m glad to hear you like One Piece! Do you have a favorite character or arc from the series?', additional_kwargs={'refusal': None}, response_metadata={'token_usage': {'completion_tokens': 30, 'prompt_tokens': 58, 'total_tokens': 88, 'completion_tokens_details': {'accepted_prediction_tokens': 0, 'audio_tokens': 0, 'reasoning_tokens': 0, 'rejected_prediction_tokens': 0}, 'prompt_tokens_details': {'audio_tokens': 0, 'cached_tokens': 0}}, 'model_name': 'gpt-4.1-nano-2025-04-14', 'system_fingerprint': 'fp_38343a2f8f', 'id': 'chatcmpl-BreJwi6PIXCcfNuvEmXk9uL9CzVnL', 'service_tier': 'default', 'finish_reason': 'stop', 'logprobs': None}, id='run--5ef744b9-afaa-40f7-8186-0147de73b73d-0', usage_metadata={'input_tokens': 58, 'output_tokens': 30, 'total_tokens': 88, 'input_token_details': {'audio': 0, 'cache_read': 0}, 'output_token_details': {'audio': 0, 'reasoning': 0}})]}\n"
     ]
    }
   ],
   "source": [
    "for chunk in graph.stream({\n",
    "        'messages':'hi, my name is Rahul and I like OnePiece'\n",
    "    },\n",
    "    config=config,\n",
    "    stream_mode='values'):\n",
    "    print(chunk)"
   ]
  },
  {
   "cell_type": "code",
   "execution_count": 9,
   "id": "02122ec1",
   "metadata": {},
   "outputs": [
    {
     "name": "stdout",
     "output_type": "stream",
     "text": [
      "{'superbot': {'messages': [AIMessage(content=\"That's awesome, Rahul! Zoro is a fantastic character—strong, skilled, and always determined. Do you have a favorite Zoro moment or fight?\", additional_kwargs={'refusal': None}, response_metadata={'token_usage': {'completion_tokens': 31, 'prompt_tokens': 100, 'total_tokens': 131, 'completion_tokens_details': {'accepted_prediction_tokens': 0, 'audio_tokens': 0, 'reasoning_tokens': 0, 'rejected_prediction_tokens': 0}, 'prompt_tokens_details': {'audio_tokens': 0, 'cached_tokens': 0}}, 'model_name': 'gpt-4.1-nano-2025-04-14', 'system_fingerprint': 'fp_38343a2f8f', 'id': 'chatcmpl-BreJxJTaz59HPCSzVyx153USnIL1b', 'service_tier': 'default', 'finish_reason': 'stop', 'logprobs': None}, id='run--105137c3-b33a-47d6-920b-9364dbec3e4a-0', usage_metadata={'input_tokens': 100, 'output_tokens': 31, 'total_tokens': 131, 'input_token_details': {'audio': 0, 'cache_read': 0}, 'output_token_details': {'audio': 0, 'reasoning': 0}})]}}\n"
     ]
    }
   ],
   "source": [
    "for chunk in graph.stream({\n",
    "        'messages':'i like zoro'\n",
    "    },\n",
    "    config=config,\n",
    "    stream_mode='updates'):\n",
    "    print(chunk)"
   ]
  },
  {
   "cell_type": "code",
   "execution_count": 10,
   "id": "8caf2aac",
   "metadata": {},
   "outputs": [
    {
     "name": "stdout",
     "output_type": "stream",
     "text": [
      "{'messages': [HumanMessage(content='hi, my name is Rahul and I like OnePiece', additional_kwargs={}, response_metadata={}, id='e20d98fe-40e1-4b83-9213-cdaa462aede7'), AIMessage(content=\"Hi Rahul! It's great to meet a One Piece fan. Who's your favorite character in the series?\", additional_kwargs={'refusal': None}, response_metadata={'token_usage': {'completion_tokens': 21, 'prompt_tokens': 18, 'total_tokens': 39, 'completion_tokens_details': {'accepted_prediction_tokens': 0, 'audio_tokens': 0, 'reasoning_tokens': 0, 'rejected_prediction_tokens': 0}, 'prompt_tokens_details': {'audio_tokens': 0, 'cached_tokens': 0}}, 'model_name': 'gpt-4.1-nano-2025-04-14', 'system_fingerprint': 'fp_38343a2f8f', 'id': 'chatcmpl-BreJtzC07FyfBDrp8ALrUwTWejZAQ', 'service_tier': 'default', 'finish_reason': 'stop', 'logprobs': None}, id='run--344eae82-9e1a-49b0-905f-1d7d358ac40b-0', usage_metadata={'input_tokens': 18, 'output_tokens': 21, 'total_tokens': 39, 'input_token_details': {'audio': 0, 'cache_read': 0}, 'output_token_details': {'audio': 0, 'reasoning': 0}}), HumanMessage(content='hi, my name is Rahul and I like OnePiece', additional_kwargs={}, response_metadata={}, id='aeb95533-7248-458f-b0e5-c541071cfeee'), AIMessage(content='Hi Rahul! Nice to meet you. I’m glad to hear you like One Piece! Do you have a favorite character or arc from the series?', additional_kwargs={'refusal': None}, response_metadata={'token_usage': {'completion_tokens': 30, 'prompt_tokens': 58, 'total_tokens': 88, 'completion_tokens_details': {'accepted_prediction_tokens': 0, 'audio_tokens': 0, 'reasoning_tokens': 0, 'rejected_prediction_tokens': 0}, 'prompt_tokens_details': {'audio_tokens': 0, 'cached_tokens': 0}}, 'model_name': 'gpt-4.1-nano-2025-04-14', 'system_fingerprint': 'fp_38343a2f8f', 'id': 'chatcmpl-BreJwi6PIXCcfNuvEmXk9uL9CzVnL', 'service_tier': 'default', 'finish_reason': 'stop', 'logprobs': None}, id='run--5ef744b9-afaa-40f7-8186-0147de73b73d-0', usage_metadata={'input_tokens': 58, 'output_tokens': 30, 'total_tokens': 88, 'input_token_details': {'audio': 0, 'cache_read': 0}, 'output_token_details': {'audio': 0, 'reasoning': 0}}), HumanMessage(content='i like zoro', additional_kwargs={}, response_metadata={}, id='c07fe785-2305-4f47-8fd5-1e5c2dac9c05'), AIMessage(content=\"That's awesome, Rahul! Zoro is a fantastic character—strong, skilled, and always determined. Do you have a favorite Zoro moment or fight?\", additional_kwargs={'refusal': None}, response_metadata={'token_usage': {'completion_tokens': 31, 'prompt_tokens': 100, 'total_tokens': 131, 'completion_tokens_details': {'accepted_prediction_tokens': 0, 'audio_tokens': 0, 'reasoning_tokens': 0, 'rejected_prediction_tokens': 0}, 'prompt_tokens_details': {'audio_tokens': 0, 'cached_tokens': 0}}, 'model_name': 'gpt-4.1-nano-2025-04-14', 'system_fingerprint': 'fp_38343a2f8f', 'id': 'chatcmpl-BreJxJTaz59HPCSzVyx153USnIL1b', 'service_tier': 'default', 'finish_reason': 'stop', 'logprobs': None}, id='run--105137c3-b33a-47d6-920b-9364dbec3e4a-0', usage_metadata={'input_tokens': 100, 'output_tokens': 31, 'total_tokens': 131, 'input_token_details': {'audio': 0, 'cache_read': 0}, 'output_token_details': {'audio': 0, 'reasoning': 0}}), HumanMessage(content='i also like Bon Chan', additional_kwargs={}, response_metadata={}, id='c3eae387-4fbb-4fe3-9752-cee175c77174')]}\n",
      "{'messages': [HumanMessage(content='hi, my name is Rahul and I like OnePiece', additional_kwargs={}, response_metadata={}, id='e20d98fe-40e1-4b83-9213-cdaa462aede7'), AIMessage(content=\"Hi Rahul! It's great to meet a One Piece fan. Who's your favorite character in the series?\", additional_kwargs={'refusal': None}, response_metadata={'token_usage': {'completion_tokens': 21, 'prompt_tokens': 18, 'total_tokens': 39, 'completion_tokens_details': {'accepted_prediction_tokens': 0, 'audio_tokens': 0, 'reasoning_tokens': 0, 'rejected_prediction_tokens': 0}, 'prompt_tokens_details': {'audio_tokens': 0, 'cached_tokens': 0}}, 'model_name': 'gpt-4.1-nano-2025-04-14', 'system_fingerprint': 'fp_38343a2f8f', 'id': 'chatcmpl-BreJtzC07FyfBDrp8ALrUwTWejZAQ', 'service_tier': 'default', 'finish_reason': 'stop', 'logprobs': None}, id='run--344eae82-9e1a-49b0-905f-1d7d358ac40b-0', usage_metadata={'input_tokens': 18, 'output_tokens': 21, 'total_tokens': 39, 'input_token_details': {'audio': 0, 'cache_read': 0}, 'output_token_details': {'audio': 0, 'reasoning': 0}}), HumanMessage(content='hi, my name is Rahul and I like OnePiece', additional_kwargs={}, response_metadata={}, id='aeb95533-7248-458f-b0e5-c541071cfeee'), AIMessage(content='Hi Rahul! Nice to meet you. I’m glad to hear you like One Piece! Do you have a favorite character or arc from the series?', additional_kwargs={'refusal': None}, response_metadata={'token_usage': {'completion_tokens': 30, 'prompt_tokens': 58, 'total_tokens': 88, 'completion_tokens_details': {'accepted_prediction_tokens': 0, 'audio_tokens': 0, 'reasoning_tokens': 0, 'rejected_prediction_tokens': 0}, 'prompt_tokens_details': {'audio_tokens': 0, 'cached_tokens': 0}}, 'model_name': 'gpt-4.1-nano-2025-04-14', 'system_fingerprint': 'fp_38343a2f8f', 'id': 'chatcmpl-BreJwi6PIXCcfNuvEmXk9uL9CzVnL', 'service_tier': 'default', 'finish_reason': 'stop', 'logprobs': None}, id='run--5ef744b9-afaa-40f7-8186-0147de73b73d-0', usage_metadata={'input_tokens': 58, 'output_tokens': 30, 'total_tokens': 88, 'input_token_details': {'audio': 0, 'cache_read': 0}, 'output_token_details': {'audio': 0, 'reasoning': 0}}), HumanMessage(content='i like zoro', additional_kwargs={}, response_metadata={}, id='c07fe785-2305-4f47-8fd5-1e5c2dac9c05'), AIMessage(content=\"That's awesome, Rahul! Zoro is a fantastic character—strong, skilled, and always determined. Do you have a favorite Zoro moment or fight?\", additional_kwargs={'refusal': None}, response_metadata={'token_usage': {'completion_tokens': 31, 'prompt_tokens': 100, 'total_tokens': 131, 'completion_tokens_details': {'accepted_prediction_tokens': 0, 'audio_tokens': 0, 'reasoning_tokens': 0, 'rejected_prediction_tokens': 0}, 'prompt_tokens_details': {'audio_tokens': 0, 'cached_tokens': 0}}, 'model_name': 'gpt-4.1-nano-2025-04-14', 'system_fingerprint': 'fp_38343a2f8f', 'id': 'chatcmpl-BreJxJTaz59HPCSzVyx153USnIL1b', 'service_tier': 'default', 'finish_reason': 'stop', 'logprobs': None}, id='run--105137c3-b33a-47d6-920b-9364dbec3e4a-0', usage_metadata={'input_tokens': 100, 'output_tokens': 31, 'total_tokens': 131, 'input_token_details': {'audio': 0, 'cache_read': 0}, 'output_token_details': {'audio': 0, 'reasoning': 0}}), HumanMessage(content='i also like Bon Chan', additional_kwargs={}, response_metadata={}, id='c3eae387-4fbb-4fe3-9752-cee175c77174'), AIMessage(content=\"Great choice, Rahul! Bon Clay (Mr. 2 Bon Clay) is a really interesting character—funny, brave, and full of surprises. What's your favorite thing about Bon Clay?\", additional_kwargs={'refusal': None}, response_metadata={'token_usage': {'completion_tokens': 39, 'prompt_tokens': 144, 'total_tokens': 183, 'completion_tokens_details': {'accepted_prediction_tokens': 0, 'audio_tokens': 0, 'reasoning_tokens': 0, 'rejected_prediction_tokens': 0}, 'prompt_tokens_details': {'audio_tokens': 0, 'cached_tokens': 0}}, 'model_name': 'gpt-4.1-nano-2025-04-14', 'system_fingerprint': 'fp_f12167b370', 'id': 'chatcmpl-BreJyvDJXpshHQL8qJFbOYybdAcyO', 'service_tier': 'default', 'finish_reason': 'stop', 'logprobs': None}, id='run--6ef892c3-c248-4e12-ba1b-1751349288bc-0', usage_metadata={'input_tokens': 144, 'output_tokens': 39, 'total_tokens': 183, 'input_token_details': {'audio': 0, 'cache_read': 0}, 'output_token_details': {'audio': 0, 'reasoning': 0}})]}\n"
     ]
    }
   ],
   "source": [
    "for chunk in graph.stream({\n",
    "        'messages':'i also like Bon Chan'\n",
    "    },\n",
    "    config=config,\n",
    "    stream_mode='values'):\n",
    "    print(chunk)"
   ]
  },
  {
   "cell_type": "code",
   "execution_count": 11,
   "id": "d50e8812",
   "metadata": {},
   "outputs": [
    {
     "name": "stdout",
     "output_type": "stream",
     "text": [
      "{'messages': [HumanMessage(content='i am rahul i like one piece', additional_kwargs={}, response_metadata={}, id='e3a3e37b-8a8a-43d4-ba35-527ee939ca4d')]}\n",
      "{'messages': [HumanMessage(content='i am rahul i like one piece', additional_kwargs={}, response_metadata={}, id='e3a3e37b-8a8a-43d4-ba35-527ee939ca4d'), AIMessage(content=\"Hi Rahul! That's great to hear you like One Piece. It's a fantastic series with such amazing characters and adventures. Do you have a favorite character or moment from the series?\", additional_kwargs={'refusal': None}, response_metadata={'token_usage': {'completion_tokens': 35, 'prompt_tokens': 15, 'total_tokens': 50, 'completion_tokens_details': {'accepted_prediction_tokens': 0, 'audio_tokens': 0, 'reasoning_tokens': 0, 'rejected_prediction_tokens': 0}, 'prompt_tokens_details': {'audio_tokens': 0, 'cached_tokens': 0}}, 'model_name': 'gpt-4.1-nano-2025-04-14', 'system_fingerprint': 'fp_38343a2f8f', 'id': 'chatcmpl-BreJzrxqb9EUjgBIuejU2b2ApygiV', 'service_tier': 'default', 'finish_reason': 'stop', 'logprobs': None}, id='run--bfddd54f-108b-4e44-b140-ac85ce75d0a9-0', usage_metadata={'input_tokens': 15, 'output_tokens': 35, 'total_tokens': 50, 'input_token_details': {'audio': 0, 'cache_read': 0}, 'output_token_details': {'audio': 0, 'reasoning': 0}})]}\n"
     ]
    }
   ],
   "source": [
    "config = {'configurable':{'thread_id':'123'}}\n",
    "for chunk in graph.stream({\n",
    "        'messages':'i am rahul i like one piece'\n",
    "    },\n",
    "    config=config,\n",
    "    stream_mode='values'):\n",
    "    print(chunk)\n",
    "    "
   ]
  },
  {
   "cell_type": "code",
   "execution_count": 12,
   "id": "58bfcfe4",
   "metadata": {},
   "outputs": [
    {
     "name": "stdout",
     "output_type": "stream",
     "text": [
      "{'messages': [HumanMessage(content='i am rahul i like one piece', additional_kwargs={}, response_metadata={}, id='e3a3e37b-8a8a-43d4-ba35-527ee939ca4d'), AIMessage(content=\"Hi Rahul! That's great to hear you like One Piece. It's a fantastic series with such amazing characters and adventures. Do you have a favorite character or moment from the series?\", additional_kwargs={'refusal': None}, response_metadata={'token_usage': {'completion_tokens': 35, 'prompt_tokens': 15, 'total_tokens': 50, 'completion_tokens_details': {'accepted_prediction_tokens': 0, 'audio_tokens': 0, 'reasoning_tokens': 0, 'rejected_prediction_tokens': 0}, 'prompt_tokens_details': {'audio_tokens': 0, 'cached_tokens': 0}}, 'model_name': 'gpt-4.1-nano-2025-04-14', 'system_fingerprint': 'fp_38343a2f8f', 'id': 'chatcmpl-BreJzrxqb9EUjgBIuejU2b2ApygiV', 'service_tier': 'default', 'finish_reason': 'stop', 'logprobs': None}, id='run--bfddd54f-108b-4e44-b140-ac85ce75d0a9-0', usage_metadata={'input_tokens': 15, 'output_tokens': 35, 'total_tokens': 50, 'input_token_details': {'audio': 0, 'cache_read': 0}, 'output_token_details': {'audio': 0, 'reasoning': 0}}), HumanMessage(content='i like that gay guy Bon Chan who saved luffy', additional_kwargs={}, response_metadata={}, id='f1f1fffd-87ee-4881-8dfb-b1586f32dc30')]}\n",
      "{'messages': [HumanMessage(content='i am rahul i like one piece', additional_kwargs={}, response_metadata={}, id='e3a3e37b-8a8a-43d4-ba35-527ee939ca4d'), AIMessage(content=\"Hi Rahul! That's great to hear you like One Piece. It's a fantastic series with such amazing characters and adventures. Do you have a favorite character or moment from the series?\", additional_kwargs={'refusal': None}, response_metadata={'token_usage': {'completion_tokens': 35, 'prompt_tokens': 15, 'total_tokens': 50, 'completion_tokens_details': {'accepted_prediction_tokens': 0, 'audio_tokens': 0, 'reasoning_tokens': 0, 'rejected_prediction_tokens': 0}, 'prompt_tokens_details': {'audio_tokens': 0, 'cached_tokens': 0}}, 'model_name': 'gpt-4.1-nano-2025-04-14', 'system_fingerprint': 'fp_38343a2f8f', 'id': 'chatcmpl-BreJzrxqb9EUjgBIuejU2b2ApygiV', 'service_tier': 'default', 'finish_reason': 'stop', 'logprobs': None}, id='run--bfddd54f-108b-4e44-b140-ac85ce75d0a9-0', usage_metadata={'input_tokens': 15, 'output_tokens': 35, 'total_tokens': 50, 'input_token_details': {'audio': 0, 'cache_read': 0}, 'output_token_details': {'audio': 0, 'reasoning': 0}}), HumanMessage(content='i like that gay guy Bon Chan who saved luffy', additional_kwargs={}, response_metadata={}, id='f1f1fffd-87ee-4881-8dfb-b1586f32dc30'), AIMessage(content=\"It sounds like you’re referring to a character from One Piece, but there isn't a character named Bon Chan who fits that description in the official series. Perhaps you might be thinking of a different character or a fan interpretation. \\n\\nOne Piece features many memorable characters and heartfelt moments. If you’d like, I can tell you more about the characters or moments you enjoy!\", additional_kwargs={'refusal': None}, response_metadata={'token_usage': {'completion_tokens': 73, 'prompt_tokens': 69, 'total_tokens': 142, 'completion_tokens_details': {'accepted_prediction_tokens': 0, 'audio_tokens': 0, 'reasoning_tokens': 0, 'rejected_prediction_tokens': 0}, 'prompt_tokens_details': {'audio_tokens': 0, 'cached_tokens': 0}}, 'model_name': 'gpt-4.1-nano-2025-04-14', 'system_fingerprint': 'fp_38343a2f8f', 'id': 'chatcmpl-BreK1OxT8BLbmJ4FokSYxGG4Bs15d', 'service_tier': 'default', 'finish_reason': 'stop', 'logprobs': None}, id='run--88826d74-8514-4ef2-8066-d4a7fe711c04-0', usage_metadata={'input_tokens': 69, 'output_tokens': 73, 'total_tokens': 142, 'input_token_details': {'audio': 0, 'cache_read': 0}, 'output_token_details': {'audio': 0, 'reasoning': 0}})]}\n"
     ]
    }
   ],
   "source": [
    "for chunk in graph.stream({\n",
    "        'messages':'i like that gay guy Bon Chan who saved luffy'\n",
    "    },\n",
    "    config=config,\n",
    "    stream_mode='values'):\n",
    "    print(chunk)"
   ]
  },
  {
   "cell_type": "markdown",
   "id": "f7d3e7aa",
   "metadata": {},
   "source": [
    "### Streaming The Responses With astream Method\n",
    "\n",
    "Streaming tokens We often want to stream more than graph state.\n",
    "\n",
    "In particular, with chat model calls it is common to stream the tokens as they are generated.\n",
    "\n",
    "We can do this using the .astream_events method, which streams back events as they happen inside nodes!\n",
    "\n",
    "Each event is a dict with a few keys:\n",
    "\n",
    "- event: This is the type of event that is being emitted.\n",
    "- name: This is the name of event.\n",
    "- data: This is the data associated with the event.\n",
    "- metadata: Contains langgraph_node, the node emitting the event."
   ]
  },
  {
   "cell_type": "code",
   "execution_count": 13,
   "id": "7f93f05e",
   "metadata": {},
   "outputs": [
    {
     "name": "stdout",
     "output_type": "stream",
     "text": [
      "{'event': 'on_chain_start', 'data': {'input': {'messages': ['hi my name is Rahul And I like One piece']}}, 'name': 'LangGraph', 'tags': [], 'run_id': 'e3b067ad-f8ca-4ec9-be9c-8503f5aa1d5a', 'metadata': {'thread_id': '11'}, 'parent_ids': []}\n",
      "{'event': 'on_chain_start', 'data': {'input': {'messages': [HumanMessage(content='hi my name is Rahul And I like One piece', additional_kwargs={}, response_metadata={}, id='a287f4f0-d2b8-42c8-87c5-778b6d1bd6d2')]}}, 'name': 'superbot', 'tags': ['graph:step:1'], 'run_id': 'edb5fbf8-6106-40cc-b7ca-98c3106ee02a', 'metadata': {'thread_id': '11', 'langgraph_step': 1, 'langgraph_node': 'superbot', 'langgraph_triggers': ('branch:to:superbot',), 'langgraph_path': ('__pregel_pull', 'superbot'), 'langgraph_checkpoint_ns': 'superbot:4e0526b6-647c-1e5b-e84a-42e7632ceaaa'}, 'parent_ids': ['e3b067ad-f8ca-4ec9-be9c-8503f5aa1d5a']}\n",
      "{'event': 'on_chat_model_start', 'data': {'input': {'messages': [[HumanMessage(content='hi my name is Rahul And I like One piece', additional_kwargs={}, response_metadata={}, id='a287f4f0-d2b8-42c8-87c5-778b6d1bd6d2')]]}}, 'name': 'ChatOpenAI', 'tags': ['seq:step:1'], 'run_id': 'b8f509e4-1281-4190-a415-0b1ca1aafef1', 'metadata': {'thread_id': '11', 'langgraph_step': 1, 'langgraph_node': 'superbot', 'langgraph_triggers': ('branch:to:superbot',), 'langgraph_path': ('__pregel_pull', 'superbot'), 'langgraph_checkpoint_ns': 'superbot:4e0526b6-647c-1e5b-e84a-42e7632ceaaa', 'checkpoint_ns': 'superbot:4e0526b6-647c-1e5b-e84a-42e7632ceaaa', 'ls_provider': 'openai', 'ls_model_name': 'gpt-4.1-nano', 'ls_model_type': 'chat', 'ls_temperature': None}, 'parent_ids': ['e3b067ad-f8ca-4ec9-be9c-8503f5aa1d5a', 'edb5fbf8-6106-40cc-b7ca-98c3106ee02a']}\n",
      "{'event': 'on_chat_model_stream', 'data': {'chunk': AIMessageChunk(content='', additional_kwargs={}, response_metadata={}, id='run--b8f509e4-1281-4190-a415-0b1ca1aafef1')}, 'run_id': 'b8f509e4-1281-4190-a415-0b1ca1aafef1', 'name': 'ChatOpenAI', 'tags': ['seq:step:1'], 'metadata': {'thread_id': '11', 'langgraph_step': 1, 'langgraph_node': 'superbot', 'langgraph_triggers': ('branch:to:superbot',), 'langgraph_path': ('__pregel_pull', 'superbot'), 'langgraph_checkpoint_ns': 'superbot:4e0526b6-647c-1e5b-e84a-42e7632ceaaa', 'checkpoint_ns': 'superbot:4e0526b6-647c-1e5b-e84a-42e7632ceaaa', 'ls_provider': 'openai', 'ls_model_name': 'gpt-4.1-nano', 'ls_model_type': 'chat', 'ls_temperature': None}, 'parent_ids': ['e3b067ad-f8ca-4ec9-be9c-8503f5aa1d5a', 'edb5fbf8-6106-40cc-b7ca-98c3106ee02a']}\n",
      "{'event': 'on_chat_model_stream', 'data': {'chunk': AIMessageChunk(content='Hi', additional_kwargs={}, response_metadata={}, id='run--b8f509e4-1281-4190-a415-0b1ca1aafef1')}, 'run_id': 'b8f509e4-1281-4190-a415-0b1ca1aafef1', 'name': 'ChatOpenAI', 'tags': ['seq:step:1'], 'metadata': {'thread_id': '11', 'langgraph_step': 1, 'langgraph_node': 'superbot', 'langgraph_triggers': ('branch:to:superbot',), 'langgraph_path': ('__pregel_pull', 'superbot'), 'langgraph_checkpoint_ns': 'superbot:4e0526b6-647c-1e5b-e84a-42e7632ceaaa', 'checkpoint_ns': 'superbot:4e0526b6-647c-1e5b-e84a-42e7632ceaaa', 'ls_provider': 'openai', 'ls_model_name': 'gpt-4.1-nano', 'ls_model_type': 'chat', 'ls_temperature': None}, 'parent_ids': ['e3b067ad-f8ca-4ec9-be9c-8503f5aa1d5a', 'edb5fbf8-6106-40cc-b7ca-98c3106ee02a']}\n",
      "{'event': 'on_chat_model_stream', 'data': {'chunk': AIMessageChunk(content=' Rahul', additional_kwargs={}, response_metadata={}, id='run--b8f509e4-1281-4190-a415-0b1ca1aafef1')}, 'run_id': 'b8f509e4-1281-4190-a415-0b1ca1aafef1', 'name': 'ChatOpenAI', 'tags': ['seq:step:1'], 'metadata': {'thread_id': '11', 'langgraph_step': 1, 'langgraph_node': 'superbot', 'langgraph_triggers': ('branch:to:superbot',), 'langgraph_path': ('__pregel_pull', 'superbot'), 'langgraph_checkpoint_ns': 'superbot:4e0526b6-647c-1e5b-e84a-42e7632ceaaa', 'checkpoint_ns': 'superbot:4e0526b6-647c-1e5b-e84a-42e7632ceaaa', 'ls_provider': 'openai', 'ls_model_name': 'gpt-4.1-nano', 'ls_model_type': 'chat', 'ls_temperature': None}, 'parent_ids': ['e3b067ad-f8ca-4ec9-be9c-8503f5aa1d5a', 'edb5fbf8-6106-40cc-b7ca-98c3106ee02a']}\n",
      "{'event': 'on_chat_model_stream', 'data': {'chunk': AIMessageChunk(content='!', additional_kwargs={}, response_metadata={}, id='run--b8f509e4-1281-4190-a415-0b1ca1aafef1')}, 'run_id': 'b8f509e4-1281-4190-a415-0b1ca1aafef1', 'name': 'ChatOpenAI', 'tags': ['seq:step:1'], 'metadata': {'thread_id': '11', 'langgraph_step': 1, 'langgraph_node': 'superbot', 'langgraph_triggers': ('branch:to:superbot',), 'langgraph_path': ('__pregel_pull', 'superbot'), 'langgraph_checkpoint_ns': 'superbot:4e0526b6-647c-1e5b-e84a-42e7632ceaaa', 'checkpoint_ns': 'superbot:4e0526b6-647c-1e5b-e84a-42e7632ceaaa', 'ls_provider': 'openai', 'ls_model_name': 'gpt-4.1-nano', 'ls_model_type': 'chat', 'ls_temperature': None}, 'parent_ids': ['e3b067ad-f8ca-4ec9-be9c-8503f5aa1d5a', 'edb5fbf8-6106-40cc-b7ca-98c3106ee02a']}\n",
      "{'event': 'on_chat_model_stream', 'data': {'chunk': AIMessageChunk(content=\" That's\", additional_kwargs={}, response_metadata={}, id='run--b8f509e4-1281-4190-a415-0b1ca1aafef1')}, 'run_id': 'b8f509e4-1281-4190-a415-0b1ca1aafef1', 'name': 'ChatOpenAI', 'tags': ['seq:step:1'], 'metadata': {'thread_id': '11', 'langgraph_step': 1, 'langgraph_node': 'superbot', 'langgraph_triggers': ('branch:to:superbot',), 'langgraph_path': ('__pregel_pull', 'superbot'), 'langgraph_checkpoint_ns': 'superbot:4e0526b6-647c-1e5b-e84a-42e7632ceaaa', 'checkpoint_ns': 'superbot:4e0526b6-647c-1e5b-e84a-42e7632ceaaa', 'ls_provider': 'openai', 'ls_model_name': 'gpt-4.1-nano', 'ls_model_type': 'chat', 'ls_temperature': None}, 'parent_ids': ['e3b067ad-f8ca-4ec9-be9c-8503f5aa1d5a', 'edb5fbf8-6106-40cc-b7ca-98c3106ee02a']}\n",
      "{'event': 'on_chat_model_stream', 'data': {'chunk': AIMessageChunk(content=' awesome', additional_kwargs={}, response_metadata={}, id='run--b8f509e4-1281-4190-a415-0b1ca1aafef1')}, 'run_id': 'b8f509e4-1281-4190-a415-0b1ca1aafef1', 'name': 'ChatOpenAI', 'tags': ['seq:step:1'], 'metadata': {'thread_id': '11', 'langgraph_step': 1, 'langgraph_node': 'superbot', 'langgraph_triggers': ('branch:to:superbot',), 'langgraph_path': ('__pregel_pull', 'superbot'), 'langgraph_checkpoint_ns': 'superbot:4e0526b6-647c-1e5b-e84a-42e7632ceaaa', 'checkpoint_ns': 'superbot:4e0526b6-647c-1e5b-e84a-42e7632ceaaa', 'ls_provider': 'openai', 'ls_model_name': 'gpt-4.1-nano', 'ls_model_type': 'chat', 'ls_temperature': None}, 'parent_ids': ['e3b067ad-f8ca-4ec9-be9c-8503f5aa1d5a', 'edb5fbf8-6106-40cc-b7ca-98c3106ee02a']}\n",
      "{'event': 'on_chat_model_stream', 'data': {'chunk': AIMessageChunk(content='—', additional_kwargs={}, response_metadata={}, id='run--b8f509e4-1281-4190-a415-0b1ca1aafef1')}, 'run_id': 'b8f509e4-1281-4190-a415-0b1ca1aafef1', 'name': 'ChatOpenAI', 'tags': ['seq:step:1'], 'metadata': {'thread_id': '11', 'langgraph_step': 1, 'langgraph_node': 'superbot', 'langgraph_triggers': ('branch:to:superbot',), 'langgraph_path': ('__pregel_pull', 'superbot'), 'langgraph_checkpoint_ns': 'superbot:4e0526b6-647c-1e5b-e84a-42e7632ceaaa', 'checkpoint_ns': 'superbot:4e0526b6-647c-1e5b-e84a-42e7632ceaaa', 'ls_provider': 'openai', 'ls_model_name': 'gpt-4.1-nano', 'ls_model_type': 'chat', 'ls_temperature': None}, 'parent_ids': ['e3b067ad-f8ca-4ec9-be9c-8503f5aa1d5a', 'edb5fbf8-6106-40cc-b7ca-98c3106ee02a']}\n",
      "{'event': 'on_chat_model_stream', 'data': {'chunk': AIMessageChunk(content='One', additional_kwargs={}, response_metadata={}, id='run--b8f509e4-1281-4190-a415-0b1ca1aafef1')}, 'run_id': 'b8f509e4-1281-4190-a415-0b1ca1aafef1', 'name': 'ChatOpenAI', 'tags': ['seq:step:1'], 'metadata': {'thread_id': '11', 'langgraph_step': 1, 'langgraph_node': 'superbot', 'langgraph_triggers': ('branch:to:superbot',), 'langgraph_path': ('__pregel_pull', 'superbot'), 'langgraph_checkpoint_ns': 'superbot:4e0526b6-647c-1e5b-e84a-42e7632ceaaa', 'checkpoint_ns': 'superbot:4e0526b6-647c-1e5b-e84a-42e7632ceaaa', 'ls_provider': 'openai', 'ls_model_name': 'gpt-4.1-nano', 'ls_model_type': 'chat', 'ls_temperature': None}, 'parent_ids': ['e3b067ad-f8ca-4ec9-be9c-8503f5aa1d5a', 'edb5fbf8-6106-40cc-b7ca-98c3106ee02a']}\n",
      "{'event': 'on_chat_model_stream', 'data': {'chunk': AIMessageChunk(content=' Piece', additional_kwargs={}, response_metadata={}, id='run--b8f509e4-1281-4190-a415-0b1ca1aafef1')}, 'run_id': 'b8f509e4-1281-4190-a415-0b1ca1aafef1', 'name': 'ChatOpenAI', 'tags': ['seq:step:1'], 'metadata': {'thread_id': '11', 'langgraph_step': 1, 'langgraph_node': 'superbot', 'langgraph_triggers': ('branch:to:superbot',), 'langgraph_path': ('__pregel_pull', 'superbot'), 'langgraph_checkpoint_ns': 'superbot:4e0526b6-647c-1e5b-e84a-42e7632ceaaa', 'checkpoint_ns': 'superbot:4e0526b6-647c-1e5b-e84a-42e7632ceaaa', 'ls_provider': 'openai', 'ls_model_name': 'gpt-4.1-nano', 'ls_model_type': 'chat', 'ls_temperature': None}, 'parent_ids': ['e3b067ad-f8ca-4ec9-be9c-8503f5aa1d5a', 'edb5fbf8-6106-40cc-b7ca-98c3106ee02a']}\n",
      "{'event': 'on_chat_model_stream', 'data': {'chunk': AIMessageChunk(content=' is', additional_kwargs={}, response_metadata={}, id='run--b8f509e4-1281-4190-a415-0b1ca1aafef1')}, 'run_id': 'b8f509e4-1281-4190-a415-0b1ca1aafef1', 'name': 'ChatOpenAI', 'tags': ['seq:step:1'], 'metadata': {'thread_id': '11', 'langgraph_step': 1, 'langgraph_node': 'superbot', 'langgraph_triggers': ('branch:to:superbot',), 'langgraph_path': ('__pregel_pull', 'superbot'), 'langgraph_checkpoint_ns': 'superbot:4e0526b6-647c-1e5b-e84a-42e7632ceaaa', 'checkpoint_ns': 'superbot:4e0526b6-647c-1e5b-e84a-42e7632ceaaa', 'ls_provider': 'openai', 'ls_model_name': 'gpt-4.1-nano', 'ls_model_type': 'chat', 'ls_temperature': None}, 'parent_ids': ['e3b067ad-f8ca-4ec9-be9c-8503f5aa1d5a', 'edb5fbf8-6106-40cc-b7ca-98c3106ee02a']}\n",
      "{'event': 'on_chat_model_stream', 'data': {'chunk': AIMessageChunk(content=' an', additional_kwargs={}, response_metadata={}, id='run--b8f509e4-1281-4190-a415-0b1ca1aafef1')}, 'run_id': 'b8f509e4-1281-4190-a415-0b1ca1aafef1', 'name': 'ChatOpenAI', 'tags': ['seq:step:1'], 'metadata': {'thread_id': '11', 'langgraph_step': 1, 'langgraph_node': 'superbot', 'langgraph_triggers': ('branch:to:superbot',), 'langgraph_path': ('__pregel_pull', 'superbot'), 'langgraph_checkpoint_ns': 'superbot:4e0526b6-647c-1e5b-e84a-42e7632ceaaa', 'checkpoint_ns': 'superbot:4e0526b6-647c-1e5b-e84a-42e7632ceaaa', 'ls_provider': 'openai', 'ls_model_name': 'gpt-4.1-nano', 'ls_model_type': 'chat', 'ls_temperature': None}, 'parent_ids': ['e3b067ad-f8ca-4ec9-be9c-8503f5aa1d5a', 'edb5fbf8-6106-40cc-b7ca-98c3106ee02a']}\n",
      "{'event': 'on_chat_model_stream', 'data': {'chunk': AIMessageChunk(content=' incredible', additional_kwargs={}, response_metadata={}, id='run--b8f509e4-1281-4190-a415-0b1ca1aafef1')}, 'run_id': 'b8f509e4-1281-4190-a415-0b1ca1aafef1', 'name': 'ChatOpenAI', 'tags': ['seq:step:1'], 'metadata': {'thread_id': '11', 'langgraph_step': 1, 'langgraph_node': 'superbot', 'langgraph_triggers': ('branch:to:superbot',), 'langgraph_path': ('__pregel_pull', 'superbot'), 'langgraph_checkpoint_ns': 'superbot:4e0526b6-647c-1e5b-e84a-42e7632ceaaa', 'checkpoint_ns': 'superbot:4e0526b6-647c-1e5b-e84a-42e7632ceaaa', 'ls_provider': 'openai', 'ls_model_name': 'gpt-4.1-nano', 'ls_model_type': 'chat', 'ls_temperature': None}, 'parent_ids': ['e3b067ad-f8ca-4ec9-be9c-8503f5aa1d5a', 'edb5fbf8-6106-40cc-b7ca-98c3106ee02a']}\n",
      "{'event': 'on_chat_model_stream', 'data': {'chunk': AIMessageChunk(content=' series', additional_kwargs={}, response_metadata={}, id='run--b8f509e4-1281-4190-a415-0b1ca1aafef1')}, 'run_id': 'b8f509e4-1281-4190-a415-0b1ca1aafef1', 'name': 'ChatOpenAI', 'tags': ['seq:step:1'], 'metadata': {'thread_id': '11', 'langgraph_step': 1, 'langgraph_node': 'superbot', 'langgraph_triggers': ('branch:to:superbot',), 'langgraph_path': ('__pregel_pull', 'superbot'), 'langgraph_checkpoint_ns': 'superbot:4e0526b6-647c-1e5b-e84a-42e7632ceaaa', 'checkpoint_ns': 'superbot:4e0526b6-647c-1e5b-e84a-42e7632ceaaa', 'ls_provider': 'openai', 'ls_model_name': 'gpt-4.1-nano', 'ls_model_type': 'chat', 'ls_temperature': None}, 'parent_ids': ['e3b067ad-f8ca-4ec9-be9c-8503f5aa1d5a', 'edb5fbf8-6106-40cc-b7ca-98c3106ee02a']}\n",
      "{'event': 'on_chat_model_stream', 'data': {'chunk': AIMessageChunk(content=' with', additional_kwargs={}, response_metadata={}, id='run--b8f509e4-1281-4190-a415-0b1ca1aafef1')}, 'run_id': 'b8f509e4-1281-4190-a415-0b1ca1aafef1', 'name': 'ChatOpenAI', 'tags': ['seq:step:1'], 'metadata': {'thread_id': '11', 'langgraph_step': 1, 'langgraph_node': 'superbot', 'langgraph_triggers': ('branch:to:superbot',), 'langgraph_path': ('__pregel_pull', 'superbot'), 'langgraph_checkpoint_ns': 'superbot:4e0526b6-647c-1e5b-e84a-42e7632ceaaa', 'checkpoint_ns': 'superbot:4e0526b6-647c-1e5b-e84a-42e7632ceaaa', 'ls_provider': 'openai', 'ls_model_name': 'gpt-4.1-nano', 'ls_model_type': 'chat', 'ls_temperature': None}, 'parent_ids': ['e3b067ad-f8ca-4ec9-be9c-8503f5aa1d5a', 'edb5fbf8-6106-40cc-b7ca-98c3106ee02a']}\n",
      "{'event': 'on_chat_model_stream', 'data': {'chunk': AIMessageChunk(content=' amazing', additional_kwargs={}, response_metadata={}, id='run--b8f509e4-1281-4190-a415-0b1ca1aafef1')}, 'run_id': 'b8f509e4-1281-4190-a415-0b1ca1aafef1', 'name': 'ChatOpenAI', 'tags': ['seq:step:1'], 'metadata': {'thread_id': '11', 'langgraph_step': 1, 'langgraph_node': 'superbot', 'langgraph_triggers': ('branch:to:superbot',), 'langgraph_path': ('__pregel_pull', 'superbot'), 'langgraph_checkpoint_ns': 'superbot:4e0526b6-647c-1e5b-e84a-42e7632ceaaa', 'checkpoint_ns': 'superbot:4e0526b6-647c-1e5b-e84a-42e7632ceaaa', 'ls_provider': 'openai', 'ls_model_name': 'gpt-4.1-nano', 'ls_model_type': 'chat', 'ls_temperature': None}, 'parent_ids': ['e3b067ad-f8ca-4ec9-be9c-8503f5aa1d5a', 'edb5fbf8-6106-40cc-b7ca-98c3106ee02a']}\n",
      "{'event': 'on_chat_model_stream', 'data': {'chunk': AIMessageChunk(content=' adventures', additional_kwargs={}, response_metadata={}, id='run--b8f509e4-1281-4190-a415-0b1ca1aafef1')}, 'run_id': 'b8f509e4-1281-4190-a415-0b1ca1aafef1', 'name': 'ChatOpenAI', 'tags': ['seq:step:1'], 'metadata': {'thread_id': '11', 'langgraph_step': 1, 'langgraph_node': 'superbot', 'langgraph_triggers': ('branch:to:superbot',), 'langgraph_path': ('__pregel_pull', 'superbot'), 'langgraph_checkpoint_ns': 'superbot:4e0526b6-647c-1e5b-e84a-42e7632ceaaa', 'checkpoint_ns': 'superbot:4e0526b6-647c-1e5b-e84a-42e7632ceaaa', 'ls_provider': 'openai', 'ls_model_name': 'gpt-4.1-nano', 'ls_model_type': 'chat', 'ls_temperature': None}, 'parent_ids': ['e3b067ad-f8ca-4ec9-be9c-8503f5aa1d5a', 'edb5fbf8-6106-40cc-b7ca-98c3106ee02a']}\n",
      "{'event': 'on_chat_model_stream', 'data': {'chunk': AIMessageChunk(content=' and', additional_kwargs={}, response_metadata={}, id='run--b8f509e4-1281-4190-a415-0b1ca1aafef1')}, 'run_id': 'b8f509e4-1281-4190-a415-0b1ca1aafef1', 'name': 'ChatOpenAI', 'tags': ['seq:step:1'], 'metadata': {'thread_id': '11', 'langgraph_step': 1, 'langgraph_node': 'superbot', 'langgraph_triggers': ('branch:to:superbot',), 'langgraph_path': ('__pregel_pull', 'superbot'), 'langgraph_checkpoint_ns': 'superbot:4e0526b6-647c-1e5b-e84a-42e7632ceaaa', 'checkpoint_ns': 'superbot:4e0526b6-647c-1e5b-e84a-42e7632ceaaa', 'ls_provider': 'openai', 'ls_model_name': 'gpt-4.1-nano', 'ls_model_type': 'chat', 'ls_temperature': None}, 'parent_ids': ['e3b067ad-f8ca-4ec9-be9c-8503f5aa1d5a', 'edb5fbf8-6106-40cc-b7ca-98c3106ee02a']}\n",
      "{'event': 'on_chat_model_stream', 'data': {'chunk': AIMessageChunk(content=' characters', additional_kwargs={}, response_metadata={}, id='run--b8f509e4-1281-4190-a415-0b1ca1aafef1')}, 'run_id': 'b8f509e4-1281-4190-a415-0b1ca1aafef1', 'name': 'ChatOpenAI', 'tags': ['seq:step:1'], 'metadata': {'thread_id': '11', 'langgraph_step': 1, 'langgraph_node': 'superbot', 'langgraph_triggers': ('branch:to:superbot',), 'langgraph_path': ('__pregel_pull', 'superbot'), 'langgraph_checkpoint_ns': 'superbot:4e0526b6-647c-1e5b-e84a-42e7632ceaaa', 'checkpoint_ns': 'superbot:4e0526b6-647c-1e5b-e84a-42e7632ceaaa', 'ls_provider': 'openai', 'ls_model_name': 'gpt-4.1-nano', 'ls_model_type': 'chat', 'ls_temperature': None}, 'parent_ids': ['e3b067ad-f8ca-4ec9-be9c-8503f5aa1d5a', 'edb5fbf8-6106-40cc-b7ca-98c3106ee02a']}\n",
      "{'event': 'on_chat_model_stream', 'data': {'chunk': AIMessageChunk(content='.', additional_kwargs={}, response_metadata={}, id='run--b8f509e4-1281-4190-a415-0b1ca1aafef1')}, 'run_id': 'b8f509e4-1281-4190-a415-0b1ca1aafef1', 'name': 'ChatOpenAI', 'tags': ['seq:step:1'], 'metadata': {'thread_id': '11', 'langgraph_step': 1, 'langgraph_node': 'superbot', 'langgraph_triggers': ('branch:to:superbot',), 'langgraph_path': ('__pregel_pull', 'superbot'), 'langgraph_checkpoint_ns': 'superbot:4e0526b6-647c-1e5b-e84a-42e7632ceaaa', 'checkpoint_ns': 'superbot:4e0526b6-647c-1e5b-e84a-42e7632ceaaa', 'ls_provider': 'openai', 'ls_model_name': 'gpt-4.1-nano', 'ls_model_type': 'chat', 'ls_temperature': None}, 'parent_ids': ['e3b067ad-f8ca-4ec9-be9c-8503f5aa1d5a', 'edb5fbf8-6106-40cc-b7ca-98c3106ee02a']}\n",
      "{'event': 'on_chat_model_stream', 'data': {'chunk': AIMessageChunk(content=' Do', additional_kwargs={}, response_metadata={}, id='run--b8f509e4-1281-4190-a415-0b1ca1aafef1')}, 'run_id': 'b8f509e4-1281-4190-a415-0b1ca1aafef1', 'name': 'ChatOpenAI', 'tags': ['seq:step:1'], 'metadata': {'thread_id': '11', 'langgraph_step': 1, 'langgraph_node': 'superbot', 'langgraph_triggers': ('branch:to:superbot',), 'langgraph_path': ('__pregel_pull', 'superbot'), 'langgraph_checkpoint_ns': 'superbot:4e0526b6-647c-1e5b-e84a-42e7632ceaaa', 'checkpoint_ns': 'superbot:4e0526b6-647c-1e5b-e84a-42e7632ceaaa', 'ls_provider': 'openai', 'ls_model_name': 'gpt-4.1-nano', 'ls_model_type': 'chat', 'ls_temperature': None}, 'parent_ids': ['e3b067ad-f8ca-4ec9-be9c-8503f5aa1d5a', 'edb5fbf8-6106-40cc-b7ca-98c3106ee02a']}\n",
      "{'event': 'on_chat_model_stream', 'data': {'chunk': AIMessageChunk(content=' you', additional_kwargs={}, response_metadata={}, id='run--b8f509e4-1281-4190-a415-0b1ca1aafef1')}, 'run_id': 'b8f509e4-1281-4190-a415-0b1ca1aafef1', 'name': 'ChatOpenAI', 'tags': ['seq:step:1'], 'metadata': {'thread_id': '11', 'langgraph_step': 1, 'langgraph_node': 'superbot', 'langgraph_triggers': ('branch:to:superbot',), 'langgraph_path': ('__pregel_pull', 'superbot'), 'langgraph_checkpoint_ns': 'superbot:4e0526b6-647c-1e5b-e84a-42e7632ceaaa', 'checkpoint_ns': 'superbot:4e0526b6-647c-1e5b-e84a-42e7632ceaaa', 'ls_provider': 'openai', 'ls_model_name': 'gpt-4.1-nano', 'ls_model_type': 'chat', 'ls_temperature': None}, 'parent_ids': ['e3b067ad-f8ca-4ec9-be9c-8503f5aa1d5a', 'edb5fbf8-6106-40cc-b7ca-98c3106ee02a']}\n",
      "{'event': 'on_chat_model_stream', 'data': {'chunk': AIMessageChunk(content=' have', additional_kwargs={}, response_metadata={}, id='run--b8f509e4-1281-4190-a415-0b1ca1aafef1')}, 'run_id': 'b8f509e4-1281-4190-a415-0b1ca1aafef1', 'name': 'ChatOpenAI', 'tags': ['seq:step:1'], 'metadata': {'thread_id': '11', 'langgraph_step': 1, 'langgraph_node': 'superbot', 'langgraph_triggers': ('branch:to:superbot',), 'langgraph_path': ('__pregel_pull', 'superbot'), 'langgraph_checkpoint_ns': 'superbot:4e0526b6-647c-1e5b-e84a-42e7632ceaaa', 'checkpoint_ns': 'superbot:4e0526b6-647c-1e5b-e84a-42e7632ceaaa', 'ls_provider': 'openai', 'ls_model_name': 'gpt-4.1-nano', 'ls_model_type': 'chat', 'ls_temperature': None}, 'parent_ids': ['e3b067ad-f8ca-4ec9-be9c-8503f5aa1d5a', 'edb5fbf8-6106-40cc-b7ca-98c3106ee02a']}\n",
      "{'event': 'on_chat_model_stream', 'data': {'chunk': AIMessageChunk(content=' a', additional_kwargs={}, response_metadata={}, id='run--b8f509e4-1281-4190-a415-0b1ca1aafef1')}, 'run_id': 'b8f509e4-1281-4190-a415-0b1ca1aafef1', 'name': 'ChatOpenAI', 'tags': ['seq:step:1'], 'metadata': {'thread_id': '11', 'langgraph_step': 1, 'langgraph_node': 'superbot', 'langgraph_triggers': ('branch:to:superbot',), 'langgraph_path': ('__pregel_pull', 'superbot'), 'langgraph_checkpoint_ns': 'superbot:4e0526b6-647c-1e5b-e84a-42e7632ceaaa', 'checkpoint_ns': 'superbot:4e0526b6-647c-1e5b-e84a-42e7632ceaaa', 'ls_provider': 'openai', 'ls_model_name': 'gpt-4.1-nano', 'ls_model_type': 'chat', 'ls_temperature': None}, 'parent_ids': ['e3b067ad-f8ca-4ec9-be9c-8503f5aa1d5a', 'edb5fbf8-6106-40cc-b7ca-98c3106ee02a']}\n",
      "{'event': 'on_chat_model_stream', 'data': {'chunk': AIMessageChunk(content=' favorite', additional_kwargs={}, response_metadata={}, id='run--b8f509e4-1281-4190-a415-0b1ca1aafef1')}, 'run_id': 'b8f509e4-1281-4190-a415-0b1ca1aafef1', 'name': 'ChatOpenAI', 'tags': ['seq:step:1'], 'metadata': {'thread_id': '11', 'langgraph_step': 1, 'langgraph_node': 'superbot', 'langgraph_triggers': ('branch:to:superbot',), 'langgraph_path': ('__pregel_pull', 'superbot'), 'langgraph_checkpoint_ns': 'superbot:4e0526b6-647c-1e5b-e84a-42e7632ceaaa', 'checkpoint_ns': 'superbot:4e0526b6-647c-1e5b-e84a-42e7632ceaaa', 'ls_provider': 'openai', 'ls_model_name': 'gpt-4.1-nano', 'ls_model_type': 'chat', 'ls_temperature': None}, 'parent_ids': ['e3b067ad-f8ca-4ec9-be9c-8503f5aa1d5a', 'edb5fbf8-6106-40cc-b7ca-98c3106ee02a']}\n",
      "{'event': 'on_chat_model_stream', 'data': {'chunk': AIMessageChunk(content=' character', additional_kwargs={}, response_metadata={}, id='run--b8f509e4-1281-4190-a415-0b1ca1aafef1')}, 'run_id': 'b8f509e4-1281-4190-a415-0b1ca1aafef1', 'name': 'ChatOpenAI', 'tags': ['seq:step:1'], 'metadata': {'thread_id': '11', 'langgraph_step': 1, 'langgraph_node': 'superbot', 'langgraph_triggers': ('branch:to:superbot',), 'langgraph_path': ('__pregel_pull', 'superbot'), 'langgraph_checkpoint_ns': 'superbot:4e0526b6-647c-1e5b-e84a-42e7632ceaaa', 'checkpoint_ns': 'superbot:4e0526b6-647c-1e5b-e84a-42e7632ceaaa', 'ls_provider': 'openai', 'ls_model_name': 'gpt-4.1-nano', 'ls_model_type': 'chat', 'ls_temperature': None}, 'parent_ids': ['e3b067ad-f8ca-4ec9-be9c-8503f5aa1d5a', 'edb5fbf8-6106-40cc-b7ca-98c3106ee02a']}\n",
      "{'event': 'on_chat_model_stream', 'data': {'chunk': AIMessageChunk(content=' or', additional_kwargs={}, response_metadata={}, id='run--b8f509e4-1281-4190-a415-0b1ca1aafef1')}, 'run_id': 'b8f509e4-1281-4190-a415-0b1ca1aafef1', 'name': 'ChatOpenAI', 'tags': ['seq:step:1'], 'metadata': {'thread_id': '11', 'langgraph_step': 1, 'langgraph_node': 'superbot', 'langgraph_triggers': ('branch:to:superbot',), 'langgraph_path': ('__pregel_pull', 'superbot'), 'langgraph_checkpoint_ns': 'superbot:4e0526b6-647c-1e5b-e84a-42e7632ceaaa', 'checkpoint_ns': 'superbot:4e0526b6-647c-1e5b-e84a-42e7632ceaaa', 'ls_provider': 'openai', 'ls_model_name': 'gpt-4.1-nano', 'ls_model_type': 'chat', 'ls_temperature': None}, 'parent_ids': ['e3b067ad-f8ca-4ec9-be9c-8503f5aa1d5a', 'edb5fbf8-6106-40cc-b7ca-98c3106ee02a']}\n",
      "{'event': 'on_chat_model_stream', 'data': {'chunk': AIMessageChunk(content=' arc', additional_kwargs={}, response_metadata={}, id='run--b8f509e4-1281-4190-a415-0b1ca1aafef1')}, 'run_id': 'b8f509e4-1281-4190-a415-0b1ca1aafef1', 'name': 'ChatOpenAI', 'tags': ['seq:step:1'], 'metadata': {'thread_id': '11', 'langgraph_step': 1, 'langgraph_node': 'superbot', 'langgraph_triggers': ('branch:to:superbot',), 'langgraph_path': ('__pregel_pull', 'superbot'), 'langgraph_checkpoint_ns': 'superbot:4e0526b6-647c-1e5b-e84a-42e7632ceaaa', 'checkpoint_ns': 'superbot:4e0526b6-647c-1e5b-e84a-42e7632ceaaa', 'ls_provider': 'openai', 'ls_model_name': 'gpt-4.1-nano', 'ls_model_type': 'chat', 'ls_temperature': None}, 'parent_ids': ['e3b067ad-f8ca-4ec9-be9c-8503f5aa1d5a', 'edb5fbf8-6106-40cc-b7ca-98c3106ee02a']}\n",
      "{'event': 'on_chat_model_stream', 'data': {'chunk': AIMessageChunk(content=' from', additional_kwargs={}, response_metadata={}, id='run--b8f509e4-1281-4190-a415-0b1ca1aafef1')}, 'run_id': 'b8f509e4-1281-4190-a415-0b1ca1aafef1', 'name': 'ChatOpenAI', 'tags': ['seq:step:1'], 'metadata': {'thread_id': '11', 'langgraph_step': 1, 'langgraph_node': 'superbot', 'langgraph_triggers': ('branch:to:superbot',), 'langgraph_path': ('__pregel_pull', 'superbot'), 'langgraph_checkpoint_ns': 'superbot:4e0526b6-647c-1e5b-e84a-42e7632ceaaa', 'checkpoint_ns': 'superbot:4e0526b6-647c-1e5b-e84a-42e7632ceaaa', 'ls_provider': 'openai', 'ls_model_name': 'gpt-4.1-nano', 'ls_model_type': 'chat', 'ls_temperature': None}, 'parent_ids': ['e3b067ad-f8ca-4ec9-be9c-8503f5aa1d5a', 'edb5fbf8-6106-40cc-b7ca-98c3106ee02a']}\n",
      "{'event': 'on_chat_model_stream', 'data': {'chunk': AIMessageChunk(content=' One', additional_kwargs={}, response_metadata={}, id='run--b8f509e4-1281-4190-a415-0b1ca1aafef1')}, 'run_id': 'b8f509e4-1281-4190-a415-0b1ca1aafef1', 'name': 'ChatOpenAI', 'tags': ['seq:step:1'], 'metadata': {'thread_id': '11', 'langgraph_step': 1, 'langgraph_node': 'superbot', 'langgraph_triggers': ('branch:to:superbot',), 'langgraph_path': ('__pregel_pull', 'superbot'), 'langgraph_checkpoint_ns': 'superbot:4e0526b6-647c-1e5b-e84a-42e7632ceaaa', 'checkpoint_ns': 'superbot:4e0526b6-647c-1e5b-e84a-42e7632ceaaa', 'ls_provider': 'openai', 'ls_model_name': 'gpt-4.1-nano', 'ls_model_type': 'chat', 'ls_temperature': None}, 'parent_ids': ['e3b067ad-f8ca-4ec9-be9c-8503f5aa1d5a', 'edb5fbf8-6106-40cc-b7ca-98c3106ee02a']}\n",
      "{'event': 'on_chat_model_stream', 'data': {'chunk': AIMessageChunk(content=' Piece', additional_kwargs={}, response_metadata={}, id='run--b8f509e4-1281-4190-a415-0b1ca1aafef1')}, 'run_id': 'b8f509e4-1281-4190-a415-0b1ca1aafef1', 'name': 'ChatOpenAI', 'tags': ['seq:step:1'], 'metadata': {'thread_id': '11', 'langgraph_step': 1, 'langgraph_node': 'superbot', 'langgraph_triggers': ('branch:to:superbot',), 'langgraph_path': ('__pregel_pull', 'superbot'), 'langgraph_checkpoint_ns': 'superbot:4e0526b6-647c-1e5b-e84a-42e7632ceaaa', 'checkpoint_ns': 'superbot:4e0526b6-647c-1e5b-e84a-42e7632ceaaa', 'ls_provider': 'openai', 'ls_model_name': 'gpt-4.1-nano', 'ls_model_type': 'chat', 'ls_temperature': None}, 'parent_ids': ['e3b067ad-f8ca-4ec9-be9c-8503f5aa1d5a', 'edb5fbf8-6106-40cc-b7ca-98c3106ee02a']}\n",
      "{'event': 'on_chat_model_stream', 'data': {'chunk': AIMessageChunk(content='?', additional_kwargs={}, response_metadata={}, id='run--b8f509e4-1281-4190-a415-0b1ca1aafef1')}, 'run_id': 'b8f509e4-1281-4190-a415-0b1ca1aafef1', 'name': 'ChatOpenAI', 'tags': ['seq:step:1'], 'metadata': {'thread_id': '11', 'langgraph_step': 1, 'langgraph_node': 'superbot', 'langgraph_triggers': ('branch:to:superbot',), 'langgraph_path': ('__pregel_pull', 'superbot'), 'langgraph_checkpoint_ns': 'superbot:4e0526b6-647c-1e5b-e84a-42e7632ceaaa', 'checkpoint_ns': 'superbot:4e0526b6-647c-1e5b-e84a-42e7632ceaaa', 'ls_provider': 'openai', 'ls_model_name': 'gpt-4.1-nano', 'ls_model_type': 'chat', 'ls_temperature': None}, 'parent_ids': ['e3b067ad-f8ca-4ec9-be9c-8503f5aa1d5a', 'edb5fbf8-6106-40cc-b7ca-98c3106ee02a']}\n",
      "{'event': 'on_chat_model_stream', 'data': {'chunk': AIMessageChunk(content='', additional_kwargs={}, response_metadata={'finish_reason': 'stop', 'model_name': 'gpt-4.1-nano-2025-04-14', 'system_fingerprint': 'fp_f12167b370', 'service_tier': 'default'}, id='run--b8f509e4-1281-4190-a415-0b1ca1aafef1')}, 'run_id': 'b8f509e4-1281-4190-a415-0b1ca1aafef1', 'name': 'ChatOpenAI', 'tags': ['seq:step:1'], 'metadata': {'thread_id': '11', 'langgraph_step': 1, 'langgraph_node': 'superbot', 'langgraph_triggers': ('branch:to:superbot',), 'langgraph_path': ('__pregel_pull', 'superbot'), 'langgraph_checkpoint_ns': 'superbot:4e0526b6-647c-1e5b-e84a-42e7632ceaaa', 'checkpoint_ns': 'superbot:4e0526b6-647c-1e5b-e84a-42e7632ceaaa', 'ls_provider': 'openai', 'ls_model_name': 'gpt-4.1-nano', 'ls_model_type': 'chat', 'ls_temperature': None}, 'parent_ids': ['e3b067ad-f8ca-4ec9-be9c-8503f5aa1d5a', 'edb5fbf8-6106-40cc-b7ca-98c3106ee02a']}\n",
      "{'event': 'on_chat_model_end', 'data': {'output': AIMessage(content=\"Hi Rahul! That's awesome—One Piece is an incredible series with amazing adventures and characters. Do you have a favorite character or arc from One Piece?\", additional_kwargs={}, response_metadata={'finish_reason': 'stop', 'model_name': 'gpt-4.1-nano-2025-04-14', 'system_fingerprint': 'fp_f12167b370', 'service_tier': 'default'}, id='run--b8f509e4-1281-4190-a415-0b1ca1aafef1'), 'input': {'messages': [[HumanMessage(content='hi my name is Rahul And I like One piece', additional_kwargs={}, response_metadata={}, id='a287f4f0-d2b8-42c8-87c5-778b6d1bd6d2')]]}}, 'run_id': 'b8f509e4-1281-4190-a415-0b1ca1aafef1', 'name': 'ChatOpenAI', 'tags': ['seq:step:1'], 'metadata': {'thread_id': '11', 'langgraph_step': 1, 'langgraph_node': 'superbot', 'langgraph_triggers': ('branch:to:superbot',), 'langgraph_path': ('__pregel_pull', 'superbot'), 'langgraph_checkpoint_ns': 'superbot:4e0526b6-647c-1e5b-e84a-42e7632ceaaa', 'checkpoint_ns': 'superbot:4e0526b6-647c-1e5b-e84a-42e7632ceaaa', 'ls_provider': 'openai', 'ls_model_name': 'gpt-4.1-nano', 'ls_model_type': 'chat', 'ls_temperature': None, 'LANGSMITH_TRACING_V2': 'true', 'revision_id': 'a8ab592-dirty'}, 'parent_ids': ['e3b067ad-f8ca-4ec9-be9c-8503f5aa1d5a', 'edb5fbf8-6106-40cc-b7ca-98c3106ee02a']}\n",
      "{'event': 'on_chain_stream', 'run_id': 'edb5fbf8-6106-40cc-b7ca-98c3106ee02a', 'name': 'superbot', 'tags': ['graph:step:1'], 'metadata': {'thread_id': '11', 'langgraph_step': 1, 'langgraph_node': 'superbot', 'langgraph_triggers': ('branch:to:superbot',), 'langgraph_path': ('__pregel_pull', 'superbot'), 'langgraph_checkpoint_ns': 'superbot:4e0526b6-647c-1e5b-e84a-42e7632ceaaa'}, 'data': {'chunk': {'messages': [AIMessage(content=\"Hi Rahul! That's awesome—One Piece is an incredible series with amazing adventures and characters. Do you have a favorite character or arc from One Piece?\", additional_kwargs={}, response_metadata={'finish_reason': 'stop', 'model_name': 'gpt-4.1-nano-2025-04-14', 'system_fingerprint': 'fp_f12167b370', 'service_tier': 'default'}, id='run--b8f509e4-1281-4190-a415-0b1ca1aafef1')]}}, 'parent_ids': ['e3b067ad-f8ca-4ec9-be9c-8503f5aa1d5a']}\n",
      "{'event': 'on_chain_end', 'data': {'output': {'messages': [AIMessage(content=\"Hi Rahul! That's awesome—One Piece is an incredible series with amazing adventures and characters. Do you have a favorite character or arc from One Piece?\", additional_kwargs={}, response_metadata={'finish_reason': 'stop', 'model_name': 'gpt-4.1-nano-2025-04-14', 'system_fingerprint': 'fp_f12167b370', 'service_tier': 'default'}, id='run--b8f509e4-1281-4190-a415-0b1ca1aafef1')]}, 'input': {'messages': [HumanMessage(content='hi my name is Rahul And I like One piece', additional_kwargs={}, response_metadata={}, id='a287f4f0-d2b8-42c8-87c5-778b6d1bd6d2')]}}, 'run_id': 'edb5fbf8-6106-40cc-b7ca-98c3106ee02a', 'name': 'superbot', 'tags': ['graph:step:1'], 'metadata': {'thread_id': '11', 'langgraph_step': 1, 'langgraph_node': 'superbot', 'langgraph_triggers': ('branch:to:superbot',), 'langgraph_path': ('__pregel_pull', 'superbot'), 'langgraph_checkpoint_ns': 'superbot:4e0526b6-647c-1e5b-e84a-42e7632ceaaa', 'LANGSMITH_TRACING_V2': 'true', 'revision_id': 'a8ab592-dirty'}, 'parent_ids': ['e3b067ad-f8ca-4ec9-be9c-8503f5aa1d5a']}\n",
      "{'event': 'on_chain_stream', 'run_id': 'e3b067ad-f8ca-4ec9-be9c-8503f5aa1d5a', 'name': 'LangGraph', 'tags': [], 'metadata': {'thread_id': '11', 'LANGSMITH_TRACING_V2': 'true', 'revision_id': 'a8ab592-dirty'}, 'data': {'chunk': {'superbot': {'messages': [AIMessage(content=\"Hi Rahul! That's awesome—One Piece is an incredible series with amazing adventures and characters. Do you have a favorite character or arc from One Piece?\", additional_kwargs={}, response_metadata={'finish_reason': 'stop', 'model_name': 'gpt-4.1-nano-2025-04-14', 'system_fingerprint': 'fp_f12167b370', 'service_tier': 'default'}, id='run--b8f509e4-1281-4190-a415-0b1ca1aafef1')]}}}, 'parent_ids': []}\n",
      "{'event': 'on_chain_end', 'data': {'output': {'messages': [HumanMessage(content='hi my name is Rahul And I like One piece', additional_kwargs={}, response_metadata={}, id='a287f4f0-d2b8-42c8-87c5-778b6d1bd6d2'), AIMessage(content=\"Hi Rahul! That's awesome—One Piece is an incredible series with amazing adventures and characters. Do you have a favorite character or arc from One Piece?\", additional_kwargs={}, response_metadata={'finish_reason': 'stop', 'model_name': 'gpt-4.1-nano-2025-04-14', 'system_fingerprint': 'fp_f12167b370', 'service_tier': 'default'}, id='run--b8f509e4-1281-4190-a415-0b1ca1aafef1')]}}, 'run_id': 'e3b067ad-f8ca-4ec9-be9c-8503f5aa1d5a', 'name': 'LangGraph', 'tags': [], 'metadata': {'thread_id': '11', 'LANGSMITH_TRACING_V2': 'true', 'revision_id': 'a8ab592-dirty'}, 'parent_ids': []}\n"
     ]
    }
   ],
   "source": [
    "config = {'configurable':{\"thread_id\":\"11\"}}\n",
    "\n",
    "async for event in graph.astream_events({'messages':['hi my name is Rahul And I like One piece']}, config=config):\n",
    "    print(event)"
   ]
  }
 ],
 "metadata": {
  "kernelspec": {
   "display_name": ".venv",
   "language": "python",
   "name": "python3"
  },
  "language_info": {
   "codemirror_mode": {
    "name": "ipython",
    "version": 3
   },
   "file_extension": ".py",
   "mimetype": "text/x-python",
   "name": "python",
   "nbconvert_exporter": "python",
   "pygments_lexer": "ipython3",
   "version": "3.13.3"
  }
 },
 "nbformat": 4,
 "nbformat_minor": 5
}
