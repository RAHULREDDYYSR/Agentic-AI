{
 "cells": [
  {
   "cell_type": "markdown",
   "id": "7ada3dbc",
   "metadata": {},
   "source": [
    "### Chain Using LangGraph\n",
    "\n",
    "In this section we will see how we can build a simple chain using LangGraph that uses 4 important concepts.\n",
    "\n",
    "- How to use chat messages as our graph state\n",
    "- How to use chat models in graph nodes\n",
    "- How to build tools to our LLM in chat models\n",
    "- How to execute the tools call in our graph nodes"
   ]
  },
  {
   "cell_type": "code",
   "execution_count": 138,
   "id": "ef41ca3a",
   "metadata": {
    "ExecuteTime": {
     "end_time": "2025-07-08T04:54:05.124334Z",
     "start_time": "2025-07-08T04:54:05.111912Z"
    }
   },
   "outputs": [
    {
     "data": {
      "text/plain": [
       "True"
      ]
     },
     "execution_count": 138,
     "metadata": {},
     "output_type": "execute_result"
    }
   ],
   "source": [
    "from dotenv import load_dotenv\n",
    "load_dotenv()"
   ]
  },
  {
   "cell_type": "markdown",
   "id": "b0cf60b2",
   "metadata": {},
   "source": [
    "### How to use chat messages as our graph state\n",
    "\n",
    "#### Messages\n",
    "\n",
    "We can use messages which can be used to capture different roles within a conversation. LangChain has various messages types including HumanMessages, AIMessages, SystemMessages and ToolMessages. These represent a messages from the user, from chat model, for the chat model to instruct behavior, and from a tool call.\n",
    "\n",
    "Every message have these important components.\n",
    "- content - content of the message\n",
    "- name - specify the name of the author\n",
    "- response_metadata - optionally, a dict of metadata"
   ]
  },
  {
   "cell_type": "code",
   "execution_count": 139,
   "id": "a486adf4",
   "metadata": {
    "ExecuteTime": {
     "end_time": "2025-07-08T04:54:05.359938Z",
     "start_time": "2025-07-08T04:54:05.164170Z"
    }
   },
   "outputs": [],
   "source": [
    "from langchain_core.messages import AIMessage, HumanMessage\n",
    "from pprint import pprint\n",
    "\n",
    "messages=[\n",
    "    AIMessage(\n",
    "        content=f\"Please tell me how can i help you\",\n",
    "        name='LLMmodel'\n",
    "    )\n",
    "]\n",
    "messages.append(\n",
    "    HumanMessage(\n",
    "        content=f\"I want to learn coding\",\n",
    "          name='Rahul') # type: ignore\n",
    ")\n",
    "messages.append(\n",
    "    AIMessage(\n",
    "        content=f\"which programming language you want to learn?\",\n",
    "        name='LLMmodel'\n",
    "    )\n",
    ")\n",
    "messages.append(\n",
    "    HumanMessage(\n",
    "        content=f\"I want to python give me roadmap\",\n",
    "          name='Rahul') # type: ignore\n",
    ")\n",
    "\n"
   ]
  },
  {
   "cell_type": "code",
   "execution_count": 140,
   "id": "4bc6832a",
   "metadata": {
    "ExecuteTime": {
     "end_time": "2025-07-08T04:54:05.517988Z",
     "start_time": "2025-07-08T04:54:05.515667Z"
    }
   },
   "outputs": [
    {
     "name": "stdout",
     "output_type": "stream",
     "text": [
      "==================================\u001b[1m Ai Message \u001b[0m==================================\n",
      "Name: LLMmodel\n",
      "\n",
      "Please tell me how can i help you\n",
      "================================\u001b[1m Human Message \u001b[0m=================================\n",
      "Name: Rahul\n",
      "\n",
      "I want to learn coding\n",
      "==================================\u001b[1m Ai Message \u001b[0m==================================\n",
      "Name: LLMmodel\n",
      "\n",
      "which programming language you want to learn?\n",
      "================================\u001b[1m Human Message \u001b[0m=================================\n",
      "Name: Rahul\n",
      "\n",
      "I want to python give me roadmap\n"
     ]
    }
   ],
   "source": [
    "for message in messages:\n",
    "    message.pretty_print()"
   ]
  },
  {
   "cell_type": "markdown",
   "id": "e77aa6f1",
   "metadata": {},
   "source": [
    "### Chat Models\n",
    "We can use the sequence of messages as input with the chatModels using LLM's and OPENAI.\n",
    "\n"
   ]
  },
  {
   "cell_type": "code",
   "execution_count": 141,
   "id": "06d0c1b4",
   "metadata": {
    "ExecuteTime": {
     "end_time": "2025-07-08T04:54:08.637640Z",
     "start_time": "2025-07-08T04:54:05.535210Z"
    }
   },
   "outputs": [],
   "source": [
    "from langchain_groq import ChatGroq\n",
    "\n",
    "llm = ChatGroq(model='llama-3.1-8b-instant')\n",
    "result = llm.invoke(messages)\n",
    "messages.append(\n",
    "    AIMessage(content=result.content)\n",
    ")"
   ]
  },
  {
   "cell_type": "code",
   "execution_count": 142,
   "id": "31682fa6",
   "metadata": {
    "ExecuteTime": {
     "end_time": "2025-07-08T04:54:08.660676Z",
     "start_time": "2025-07-08T04:54:08.655344Z"
    }
   },
   "outputs": [
    {
     "data": {
      "text/plain": [
       "\"Here's a step-by-step Python programming roadmap to help you get started:\\n\\n**Phase 1: Basics (1-2 weeks)**\\n\\n1. **Install Python**:\\n\\t* Download and install Python from the official website ([www.python.org](http://www.python.org)).\\n\\t* Choose the correct version (Python 3.x) and install it on your system.\\n2. **Basic syntax and data types**:\\n\\t* Learn basic syntax, variables, data types, operators, and control structures (if-else, for loops, while loops).\\n\\t* Understand how to print output, use comments, and format text.\\n3. **Basic data structures**:\\n\\t* Learn about lists, tuples, dictionaries, and sets.\\n\\t* Understand how to create, access, and manipulate these data structures.\\n\\n**Phase 2: Fundamental Programming Concepts (2-4 weeks)**\\n\\n1. **Functions**:\\n\\t* Learn how to define and use functions in Python.\\n\\t* Understand function arguments, return types, and scope.\\n2. **Modules and packages**:\\n\\t* Learn how to import and use external libraries and modules.\\n\\t* Understand how to create and distribute your own modules.\\n3. **File input/output**:\\n\\t* Learn how to read and write files in Python.\\n\\t* Understand how to work with CSV, JSON, and other file formats.\\n4. **Error handling and debugging**:\\n\\t* Learn how to handle errors and exceptions in Python.\\n\\t* Understand how to use debuggers and print statements to troubleshoot code.\\n\\n**Phase 3: Intermediate Topics (4-6 weeks)**\\n\\n1. **Object-Oriented Programming (OOP) concepts**:\\n\\t* Learn about classes, objects, inheritance, polymorphism, and encapsulation.\\n\\t* Understand how to create and use classes in Python.\\n2. **List comprehensions and generators**:\\n\\t* Learn how to use list comprehensions and generators to simplify code.\\n\\t* Understand how to create and use iterators and iterables.\\n3. **Regular expressions**:\\n\\t* Learn how to use regular expressions to match patterns in strings.\\n\\t* Understand how to use the `re` module in Python.\\n4. **Web development**:\\n\\t* Learn how to use popular web frameworks like Flask or Django.\\n\\t* Understand how to create and deploy web applications with Python.\\n\\n**Phase 4: Advanced Topics (6-8 weeks)**\\n\\n1. **Concurrent programming**:\\n\\t* Learn how to use threads, processes, and asynchronous programming in Python.\\n\\t* Understand how to use the `concurrent.futures` module.\\n2. **Data structures and algorithms**:\\n\\t* Learn about advanced data structures like trees, graphs, and heaps.\\n\\t* Understand how to implement and use algorithms like sorting and searching.\\n3. **Machine learning and data science**:\\n\\t* Learn how to use popular libraries like NumPy, pandas, and scikit-learn.\\n\\t* Understand how to work with datasets, visualize data, and apply machine learning algorithms.\\n4. **Advanced web development**:\\n\\t* Learn how to use advanced web frameworks like Pyramid or FastAPI.\\n\\t* Understand how to create and deploy complex web applications with Python.\\n\\n**Phase 5: Practice and Projects (8-12 weeks)**\\n\\n1. **Practice coding**:\\n\\t* Work on projects that challenge you and help you reinforce your skills.\\n\\t* Use online platforms like LeetCode, HackerRank, or CodeWars to practice coding.\\n2. **Build personal projects**:\\n\\t* Create projects that showcase your skills and interests.\\n\\t* Use platforms like GitHub or GitLab to host and share your code.\\n3. **Join online communities**:\\n\\t* Participate in online forums like Reddit's r/learnpython or Stack Overflow.\\n\\t* Join online communities like Python Subreddit or Python Discord server.\\n\\nRemember, this is just a rough roadmap, and you should adjust it to fit your needs and goals. Practice regularly, and don't be afraid to ask for help when you need it. Good luck!\""
      ]
     },
     "execution_count": 142,
     "metadata": {},
     "output_type": "execute_result"
    }
   ],
   "source": [
    "result.content"
   ]
  },
  {
   "cell_type": "markdown",
   "id": "cc0a73e7",
   "metadata": {},
   "source": [
    "### Tools\n",
    "Tools can be integrated with the LLM models to interact with external systems.<br>\n",
    "External systems can be API's, third party tools.<br>\n",
    "whenever a query is asked the model can choose to call the tool and this query is based on the natural language input and this will return an output that matches the tool's schema"
   ]
  },
  {
   "cell_type": "code",
   "execution_count": 143,
   "id": "bbc900c5",
   "metadata": {
    "ExecuteTime": {
     "end_time": "2025-07-08T04:54:08.747460Z",
     "start_time": "2025-07-08T04:54:08.744193Z"
    }
   },
   "outputs": [],
   "source": [
    "def add(a:int,b:int)-> int:\n",
    "    \"\"\" Add two numbers. Only use this tool if the user asks for addition or math operations.\n",
    "    args:\n",
    "        a(int): first int\n",
    "        b(int): second int\n",
    "    returns:\n",
    "        int\n",
    "\n",
    "    \"\"\"\n",
    "    print(\"add tool is called\")\n",
    "    return a+b\n"
   ]
  },
  {
   "cell_type": "code",
   "execution_count": 144,
   "id": "f39b305b",
   "metadata": {
    "ExecuteTime": {
     "end_time": "2025-07-08T04:54:08.802067Z",
     "start_time": "2025-07-08T04:54:08.795981Z"
    }
   },
   "outputs": [],
   "source": [
    "### Binding tool with llm\n",
    "llm_with_tools =llm.bind_tools(\n",
    "    [add]\n",
    ")\n"
   ]
  },
  {
   "cell_type": "code",
   "execution_count": 145,
   "id": "bdb76b56",
   "metadata": {
    "ExecuteTime": {
     "end_time": "2025-07-08T04:54:09.336356Z",
     "start_time": "2025-07-08T04:54:08.830714Z"
    }
   },
   "outputs": [],
   "source": [
    "tool_call=llm_with_tools.invoke(\n",
    "    [\n",
    "        HumanMessage(\n",
    "            content='what is 2 + 5'\n",
    "        )\n",
    "    ]\n",
    ")"
   ]
  },
  {
   "cell_type": "code",
   "execution_count": 146,
   "id": "955b0a35",
   "metadata": {
    "ExecuteTime": {
     "end_time": "2025-07-08T04:54:09.355304Z",
     "start_time": "2025-07-08T04:54:09.353271Z"
    }
   },
   "outputs": [
    {
     "data": {
      "text/plain": [
       "[{'name': 'add',\n",
       "  'args': {'a': 2, 'b': 5},\n",
       "  'id': 'hfayx479y',\n",
       "  'type': 'tool_call'}]"
      ]
     },
     "execution_count": 146,
     "metadata": {},
     "output_type": "execute_result"
    }
   ],
   "source": [
    "tool_call.tool_calls"
   ]
  },
  {
   "cell_type": "code",
   "execution_count": 147,
   "id": "a3ba7ffb",
   "metadata": {},
   "outputs": [
    {
     "data": {
      "text/plain": [
       "AIMessage(content='Hello. Is there something I can help you with?', additional_kwargs={}, response_metadata={'token_usage': {'completion_tokens': 12, 'prompt_tokens': 286, 'total_tokens': 298, 'completion_time': 0.027361394, 'prompt_time': 0.01687401, 'queue_time': 0.05166077000000001, 'total_time': 0.044235404}, 'model_name': 'llama-3.1-8b-instant', 'system_fingerprint': 'fp_510c177af0', 'finish_reason': 'stop', 'logprobs': None}, id='run--31260525-60af-4f5f-89ba-1d6b590743e4-0', usage_metadata={'input_tokens': 286, 'output_tokens': 12, 'total_tokens': 298})"
      ]
     },
     "execution_count": 147,
     "metadata": {},
     "output_type": "execute_result"
    }
   ],
   "source": [
    "llm_with_tools.invoke(\"hi\")"
   ]
  },
  {
   "cell_type": "markdown",
   "id": "6c9e9c79",
   "metadata": {},
   "source": [
    "### Using messages as state"
   ]
  },
  {
   "cell_type": "code",
   "execution_count": 148,
   "id": "01f4aefa",
   "metadata": {},
   "outputs": [],
   "source": [
    "from typing_extensions import TypedDict\n",
    "from langchain_core.messages import AnyMessage\n",
    "\n",
    "class State(TypedDict):\n",
    "    message:list[AnyMessage]"
   ]
  },
  {
   "cell_type": "markdown",
   "id": "9159a82d",
   "metadata": {},
   "source": [
    "### Reducers\n",
    "Now, we have a minor problem!<br>\n",
    "As we discussed, each node will return a new value for our state key messages<br>\n",
    "But, this new value will override the prior messages value.<br>\n",
    "As our graph runs, we want to append messages to our message state key.<br>\n",
    "we can use reducer function to address this.<br>\n",
    "Reducers allow us to specify how state updates are performed.<br>\n",
    "If no reducer is specified it will assumed the updates to the key should override it as we saw before.<br>\n",
    "But to append that any messages we can use pre-built add_messages reducer.<br>\n",
    "This ensures that any messages are appended to the existing list of messages.<br>\n",
    "We simply need to annotate our messages key with the add_messages reducer function as metadata."
   ]
  },
  {
   "cell_type": "code",
   "execution_count": 149,
   "id": "cbf8aa6d",
   "metadata": {},
   "outputs": [],
   "source": [
    "from langgraph.graph.message import add_messages\n",
    "from typing import Annotated\n",
    "\n",
    "class State(TypedDict):\n",
    "    messages:Annotated[list[AnyMessage], add_messages]\n",
    "    \n"
   ]
  },
  {
   "cell_type": "code",
   "execution_count": 150,
   "id": "93e10daf",
   "metadata": {},
   "outputs": [],
   "source": [
    "### Reducers with add_messages\n",
    "\n",
    "initial_messages =[\n",
    "    AIMessage(\n",
    "        content=f\"Please tell me how can i help you\",\n",
    "        name='LLMmodel'\n",
    "    ),\n",
    "\n",
    "    HumanMessage(\n",
    "        content=f\"I want to learn coding\",\n",
    "          name='Rahul') # type: ignore\n",
    "\n",
    "]"
   ]
  },
  {
   "cell_type": "code",
   "execution_count": 151,
   "id": "7c85496d",
   "metadata": {},
   "outputs": [
    {
     "data": {
      "text/plain": [
       "[AIMessage(content='Please tell me how can i help you', additional_kwargs={}, response_metadata={}, name='LLMmodel'),\n",
       " HumanMessage(content='I want to learn coding', additional_kwargs={}, response_metadata={}, name='Rahul')]"
      ]
     },
     "execution_count": 151,
     "metadata": {},
     "output_type": "execute_result"
    }
   ],
   "source": [
    "initial_messages"
   ]
  },
  {
   "cell_type": "code",
   "execution_count": 152,
   "id": "21b2e6b5",
   "metadata": {},
   "outputs": [],
   "source": [
    "ai_message=AIMessage(\n",
    "        content=f\"which programming language you want to learn?\",\n",
    "        name='LLMmodel'\n",
    "    )"
   ]
  },
  {
   "cell_type": "code",
   "execution_count": 153,
   "id": "b26a80e5",
   "metadata": {},
   "outputs": [
    {
     "data": {
      "text/plain": [
       "[AIMessage(content='Please tell me how can i help you', additional_kwargs={}, response_metadata={}, name='LLMmodel', id='cba878fd-8aef-4922-a5fa-993d232c6d96'),\n",
       " HumanMessage(content='I want to learn coding', additional_kwargs={}, response_metadata={}, name='Rahul', id='70cee226-e941-4d97-8fe7-36e4d9b3dd17'),\n",
       " AIMessage(content='which programming language you want to learn?', additional_kwargs={}, response_metadata={}, name='LLMmodel', id='70bed8e4-c55a-4321-a14f-e0e2f42b1c2f')]"
      ]
     },
     "execution_count": 153,
     "metadata": {},
     "output_type": "execute_result"
    }
   ],
   "source": [
    "# Reducers add_messages is to append instead of override\n",
    "add_messages(initial_messages,ai_message)"
   ]
  },
  {
   "cell_type": "code",
   "execution_count": 154,
   "id": "662e588f",
   "metadata": {},
   "outputs": [],
   "source": [
    "# chatbot node fun\n",
    "def llm_tool(state:State):\n",
    "    return {'messages':[llm_with_tools.invoke(state['messages'])]}"
   ]
  },
  {
   "cell_type": "code",
   "execution_count": 155,
   "id": "801363a9",
   "metadata": {},
   "outputs": [
    {
     "data": {
      "image/png": "[encoded data removed]",
      "text/plain": [
       "<IPython.core.display.Image object>"
      ]
     },
     "metadata": {},
     "output_type": "display_data"
    }
   ],
   "source": [
    "from IPython.display import Image, display\n",
    "from langgraph.graph import StateGraph, START,END\n",
    "builder = StateGraph(State)\n",
    "\n",
    "builder.add_node(\"llm_tool\",llm_tool)\n",
    "\n",
    "builder.add_edge(START,'llm_tool')\n",
    "builder.add_edge('llm_tool',END)\n",
    "\n",
    "graph = builder.compile()\n",
    "display(Image(graph.get_graph().draw_mermaid_png()))"
   ]
  },
  {
   "cell_type": "code",
   "execution_count": 156,
   "id": "79128b31",
   "metadata": {},
   "outputs": [
    {
     "data": {
      "text/plain": [
       "{'messages': [HumanMessage(content='what is 5 plus 2', additional_kwargs={}, response_metadata={}, id='b761da24-868a-445d-ab59-7e076408d428'),\n",
       "  AIMessage(content='', additional_kwargs={'tool_calls': [{'id': '7g5zrbkkb', 'function': {'arguments': '{\"a\":5,\"b\":2}', 'name': 'add'}, 'type': 'function'}]}, response_metadata={'token_usage': {'completion_tokens': 18, 'prompt_tokens': 292, 'total_tokens': 310, 'completion_time': 0.032639284, 'prompt_time': 0.017230393, 'queue_time': 0.048513894, 'total_time': 0.049869677}, 'model_name': 'llama-3.1-8b-instant', 'system_fingerprint': 'fp_8ab2e50475', 'finish_reason': 'tool_calls', 'logprobs': None}, id='run--e68eeec4-e120-457a-92de-4af2ee782111-0', tool_calls=[{'name': 'add', 'args': {'a': 5, 'b': 2}, 'id': '7g5zrbkkb', 'type': 'tool_call'}], usage_metadata={'input_tokens': 292, 'output_tokens': 18, 'total_tokens': 310})]}"
      ]
     },
     "execution_count": 156,
     "metadata": {},
     "output_type": "execute_result"
    }
   ],
   "source": [
    "## invocation\n",
    "\n",
    "messages = graph.invoke({\"messages\":\"what is 5 plus 2\"})\n",
    "messages\n",
    "\n"
   ]
  },
  {
   "cell_type": "code",
   "execution_count": 157,
   "id": "50381fa2",
   "metadata": {},
   "outputs": [
    {
     "name": "stdout",
     "output_type": "stream",
     "text": [
      "================================\u001b[1m Human Message \u001b[0m=================================\n",
      "\n",
      "what is 5 plus 2\n",
      "==================================\u001b[1m Ai Message \u001b[0m==================================\n",
      "Tool Calls:\n",
      "  add (7g5zrbkkb)\n",
      " Call ID: 7g5zrbkkb\n",
      "  Args:\n",
      "    a: 5\n",
      "    b: 2\n"
     ]
    }
   ],
   "source": [
    "for message in messages['messages']:\n",
    "    message.pretty_print()"
   ]
  },
  {
   "cell_type": "code",
   "execution_count": 158,
   "id": "a9a373c4",
   "metadata": {},
   "outputs": [
    {
     "data": {
      "image/png": "[encoded data removed]",
      "text/plain": [
       "<IPython.core.display.Image object>"
      ]
     },
     "metadata": {},
     "output_type": "display_data"
    }
   ],
   "source": [
    "from langgraph.prebuilt import ToolNode, tools_condition\n",
    "\n",
    "from IPython.display import Image, display\n",
    "from langgraph.graph import StateGraph, START,END\n",
    "builder = StateGraph(State)\n",
    "\n",
    "builder.add_node(\"llm_tool\",llm_tool)\n",
    "\n",
    "builder.add_node('tools',ToolNode([add]))\n",
    "\n",
    "builder.add_edge(START,'llm_tool')\n",
    "builder.add_conditional_edges(\n",
    "    'llm_tool',\n",
    "    # if the latest message (result) from assistant is a tool call -> tools_condition routes to tools\n",
    "    # if the latest messages (result) from assistant is not a tool call -> tools_condition routes to END\n",
    "    tools_condition\n",
    ")\n",
    "builder.add_edge('tools', END)\n",
    "\n",
    "\n",
    "graph = builder.compile()\n",
    "display(Image(graph.get_graph().draw_mermaid_png()))\n",
    "\n",
    "\n"
   ]
  },
  {
   "cell_type": "code",
   "execution_count": 159,
   "id": "b0108464",
   "metadata": {},
   "outputs": [
    {
     "name": "stdout",
     "output_type": "stream",
     "text": [
      "add tool is called\n",
      "================================\u001b[1m Human Message \u001b[0m=================================\n",
      "\n",
      "what is 5 plus 2\n",
      "==================================\u001b[1m Ai Message \u001b[0m==================================\n",
      "Tool Calls:\n",
      "  add (y2y1ftkfr)\n",
      " Call ID: y2y1ftkfr\n",
      "  Args:\n",
      "    a: 5\n",
      "    b: 2\n",
      "=================================\u001b[1m Tool Message \u001b[0m=================================\n",
      "Name: add\n",
      "\n",
      "7\n"
     ]
    }
   ],
   "source": [
    "messages = graph.invoke({\"messages\":\"what is 5 plus 2\"})\n",
    "\n",
    "for message in messages['messages']:\n",
    "    message.pretty_print()"
   ]
  },
  {
   "cell_type": "code",
   "execution_count": 160,
   "id": "a03d0c3a",
   "metadata": {},
   "outputs": [
    {
     "name": "stdout",
     "output_type": "stream",
     "text": [
      "================================\u001b[1m Human Message \u001b[0m=================================\n",
      "\n",
      "what is Machine learning?\n",
      "==================================\u001b[1m Ai Message \u001b[0m==================================\n",
      "\n",
      "Machine learning is a field of study that gives computers the ability to learn without being explicitly programmed. It involves the use of algorithms and statistical models to enable machines to perform a specific task, such as image recognition, speech recognition, or decision-making, based on data they have been trained on.\n"
     ]
    }
   ],
   "source": [
    "messages = graph.invoke({\"messages\":\"what is Machine learning?\"})\n",
    "\n",
    "for message in messages['messages']:\n",
    "    message.pretty_print()"
   ]
  },
  {
   "cell_type": "code",
   "execution_count": 161,
   "id": "9fa55d18",
   "metadata": {},
   "outputs": [
    {
     "data": {
      "text/plain": [
       "{'messages': [HumanMessage(content='hi', additional_kwargs={}, response_metadata={}, id='0f2587d7-6357-4249-8b2d-b198a0e9a7fb'),\n",
       "  AIMessage(content='Hello. What can I help you with today?', additional_kwargs={}, response_metadata={'token_usage': {'completion_tokens': 11, 'prompt_tokens': 286, 'total_tokens': 297, 'completion_time': 0.026118357, 'prompt_time': 0.016899699, 'queue_time': 0.051730521, 'total_time': 0.043018056}, 'model_name': 'llama-3.1-8b-instant', 'system_fingerprint': 'fp_510c177af0', 'finish_reason': 'stop', 'logprobs': None}, id='run--d40c9880-2e17-4d10-8a6d-1ef75a6016e4-0', usage_metadata={'input_tokens': 286, 'output_tokens': 11, 'total_tokens': 297})]}"
      ]
     },
     "execution_count": 161,
     "metadata": {},
     "output_type": "execute_result"
    }
   ],
   "source": [
    "graph.invoke({\"messages\":\"hi\"})\n"
   ]
  },
  {
   "cell_type": "code",
   "execution_count": null,
   "id": "6b42225b",
   "metadata": {},
   "outputs": [],
   "source": []
  }
 ],
 "metadata": {
  "kernelspec": {
   "display_name": ".venv",
   "language": "python",
   "name": "python3"
  },
  "language_info": {
   "codemirror_mode": {
    "name": "ipython",
    "version": 3
   },
   "file_extension": ".py",
   "mimetype": "text/x-python",
   "name": "python",
   "nbconvert_exporter": "python",
   "pygments_lexer": "ipython3",
   "version": "3.13.3"
  }
 },
 "nbformat": 4,
 "nbformat_minor": 5
}
