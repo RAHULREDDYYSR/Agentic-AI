{
 "cells": [
  {
   "cell_type": "code",
   "execution_count": 72,
   "id": "b7dd81dd",
   "metadata": {},
   "outputs": [],
   "source": [
    "from dotenv import load_dotenv\n",
    "load_dotenv()\n",
    "from langchain_tavily import TavilySearch\n",
    "from langchain_community.tools import ArxivQueryRun, WikipediaQueryRun\n",
    "from langchain_community.utilities import WikipediaAPIWrapper, ArxivAPIWrapper"
   ]
  },
  {
   "cell_type": "code",
   "execution_count": 73,
   "id": "5c506ac8",
   "metadata": {},
   "outputs": [],
   "source": [
    "api_wrapper_arxiv = ArxivAPIWrapper(top_k_results=2, doc_content_chars_max=500)\n",
    "arxiv = ArxivQueryRun(api_wrapper=api_wrapper_arxiv)\n",
    "api_wrapper_wiki = WikipediaAPIWrapper(top_k_results=2, doc_content_chars_max=500)\n",
    "wiki = WikipediaQueryRun(api_wrapper=api_wrapper_wiki)\n",
    "\n",
    "\n",
    "tavily = TavilySearch()\n",
    "\n"
   ]
  },
  {
   "cell_type": "code",
   "execution_count": 74,
   "id": "55de572d",
   "metadata": {},
   "outputs": [],
   "source": [
    "## custom functions\n",
    "def multiply(a: float, b: float) -> float:\n",
    "    \"\"\"\n",
    "    Multiply two numbers.\n",
    "\n",
    "    Args:\n",
    "        a (float): The first number.\n",
    "        b (float): The second number.\n",
    "\n",
    "    Returns:\n",
    "        float: The product of a and b.\n",
    "    \"\"\"\n",
    "    return a * b\n",
    "\n",
    "def add(a: float, b: float) -> float:\n",
    "    \"\"\"\n",
    "    Add two numbers.\n",
    "\n",
    "    Args:\n",
    "        a (float): The first number.\n",
    "        b (float): The second number.\n",
    "\n",
    "    Returns:\n",
    "        float: The sum of a and b.\n",
    "    \"\"\"\n",
    "    return a + b\n",
    "\n",
    "def divide(a: float, b: float) -> float:\n",
    "    \"\"\"\n",
    "    Divide one number by another.\n",
    "\n",
    "    Args:\n",
    "        a (float): The numerator.\n",
    "        b (float): The denominator (must not be zero).\n",
    "\n",
    "    Returns:\n",
    "        float: The result of a divided by b.\n",
    "\n",
    "    Raises:\n",
    "        ValueError: If b is zero.\n",
    "    \"\"\"\n",
    "    if b == 0:\n",
    "        raise ValueError(\"Denominator b must not be zero.\")\n",
    "    return a / b\n",
    "\n",
    "\n",
    "tools=[arxiv,wiki,tavily,add,multiply,divide]\n"
   ]
  },
  {
   "cell_type": "code",
   "execution_count": 75,
   "id": "57070989",
   "metadata": {},
   "outputs": [],
   "source": [
    "from langchain_groq import ChatGroq\n",
    "from langchain_openai import ChatOpenAI\n",
    "#llm = ChatGroq(model='qwen-qwq-32b') #deepseek-r1-distill-llama-70b,llama-3.1-8b-instant\n",
    "llm = ChatOpenAI(model='gpt-4.1-nano')\n",
    "\n",
    "llm_with_tools = llm.bind_tools(tools)"
   ]
  },
  {
   "cell_type": "code",
   "execution_count": 76,
   "id": "73623920",
   "metadata": {},
   "outputs": [
    {
     "data": {
      "text/plain": [
       "[{'name': 'tavily_search',\n",
       "  'args': {'query': 'recent AI news', 'search_depth': 'basic'},\n",
       "  'id': 'call_5K3Euz87FMmS2nmAICUsgi2L',\n",
       "  'type': 'tool_call'}]"
      ]
     },
     "execution_count": 76,
     "metadata": {},
     "output_type": "execute_result"
    }
   ],
   "source": [
    "from pprint import pprint\n",
    "from langchain_core.messages import HumanMessage, AIMessage\n",
    "llm_with_tools.invoke([HumanMessage(\"What is recent ai news?\")]).tool_calls\n"
   ]
  },
  {
   "cell_type": "code",
   "execution_count": 77,
   "id": "c6c77486",
   "metadata": {},
   "outputs": [],
   "source": [
    "# State Schema\n",
    "from typing_extensions import TypedDict\n",
    "from langchain_core.messages import AnyMessage\n",
    "from typing import Annotated\n",
    "from langgraph.graph.message import add_messages\n",
    "\n",
    "class State(TypedDict):\n",
    "    messages: Annotated[list[AnyMessage], add_messages]"
   ]
  },
  {
   "cell_type": "code",
   "execution_count": 78,
   "id": "cc67a9a9",
   "metadata": {},
   "outputs": [
    {
     "data": {
      "image/png": "[encoded data removed]",
      "text/plain": [
       "<IPython.core.display.Image object>"
      ]
     },
     "metadata": {},
     "output_type": "display_data"
    }
   ],
   "source": [
    "## chatbot with langgraph\n",
    "from IPython.display import Image, display\n",
    "from langgraph.graph import StateGraph, START, END\n",
    "from langgraph.prebuilt import ToolNode, tools_condition\n",
    "\n",
    "## node definition\n",
    "def tool_calling_llm(state:State):\n",
    "    return {\"messages\": [llm_with_tools.invoke(state[\"messages\"])]}\n",
    "\n",
    "## graph definition\n",
    "builder = StateGraph(State)\n",
    "builder.add_node(\"tool_calling_llm\", tool_calling_llm)\n",
    "builder.add_node(\"tools\", ToolNode(tools))\n",
    "builder.add_edge(START, \"tool_calling_llm\")\n",
    "builder.add_conditional_edges(\n",
    "    \"tool_calling_llm\",\n",
    "    tools_condition,\n",
    ")\n",
    "builder.add_edge(\"tools\",\"tool_calling_llm\")\n",
    "\n",
    "## graph visualization\n",
    "graph = builder.compile()\n",
    "display(Image(graph.get_graph().draw_mermaid_png()))\n",
    "\n",
    "\n"
   ]
  },
  {
   "cell_type": "code",
   "execution_count": 79,
   "id": "75bfcb30",
   "metadata": {},
   "outputs": [
    {
     "name": "stdout",
     "output_type": "stream",
     "text": [
      "================================\u001b[1m Human Message \u001b[0m=================================\n",
      "\n",
      "provide me latest AI News, add 10 and 20 and divide by 2\n",
      "==================================\u001b[1m Ai Message \u001b[0m==================================\n",
      "Tool Calls:\n",
      "  tavily_search (call_ziVn9WLEfFO1rjTx00HGtieD)\n",
      " Call ID: call_ziVn9WLEfFO1rjTx00HGtieD\n",
      "  Args:\n",
      "    query: latest AI news\n",
      "    search_depth: basic\n",
      "  add (call_xSm9X32ufA8gBgGPH20WaARF)\n",
      " Call ID: call_xSm9X32ufA8gBgGPH20WaARF\n",
      "  Args:\n",
      "    a: 10\n",
      "    b: 20\n",
      "=================================\u001b[1m Tool Message \u001b[0m=================================\n",
      "Name: tavily_search\n",
      "\n",
      "{\"query\": \"latest AI news\", \"follow_up_questions\": null, \"answer\": null, \"images\": [], \"results\": [{\"url\": \"https://www.wsj.com/tech/ai?gaa_at=eafs&gaa_n=ASWzDAjASSuI28PxQk8-1ACPoOAV7z7pMLrl8doTted0d7fKZ3XemT8PhGP1&gaa_ts=686e536b&gaa_sig=llmoNda5lF1t_Eo2aR101-pG5315ErjtxUYMX-Oyc2hNHeAnd3tgNrko68AbC9BkXypPjvdocZtRAl0qe0bDEQ%3D%3D\", \"title\": \"Artificial Intelligence - Latest AI News and Analysis - WSJ.com\", \"content\": \"The latest artificial intelligence news coverage focusing on the technology, tools and the companies building AI technology.\", \"score\": 0.7827459, \"raw_content\": null}, {\"url\": \"https://www.artificialintelligence-news.com/\", \"title\": \"AI News | Latest AI News, Analysis & Events\", \"content\": \"Apple loses key AI leader to Meta · Tencent Hunyuan3D-PolyGen: A model for 'art-grade' 3D assets · UK and Singapore form alliance to guide AI in finance\", \"score\": 0.7707586, \"raw_content\": null}, {\"url\": \"https://techcrunch.com/category/artificial-intelligence/\", \"title\": \"AI News & Artificial Intelligence | TechCrunch\", \"content\": \"News coverage on artificial intelligence and machine learning tech, the companies building them, and the ethical issues AI raises today.\", \"score\": 0.62303346, \"raw_content\": null}, {\"url\": \"https://news.mit.edu/topic/artificial-intelligence2\", \"title\": \"Artificial intelligence | Massachusetts Institute of Technology\", \"content\": \"MIT and Mass General Brigham launch joint seed program to accelerate innovations in health. The MIT-MGB Seed Program, launched with support from Analog Devices\", \"score\": 0.3407928, \"raw_content\": null}], \"response_time\": 0.97}\n",
      "=================================\u001b[1m Tool Message \u001b[0m=================================\n",
      "Name: add\n",
      "\n",
      "30.0\n",
      "==================================\u001b[1m Ai Message \u001b[0m==================================\n",
      "\n",
      "The latest AI news can be found on the following sources:\n",
      "1. [WSJ - Artificial Intelligence Latest News and Analysis](https://www.wsj.com/tech/ai?gaa_at=eafs&gaa_n=ASWzDAjASSuI28PxQk8-1ACPoOAV7z7pMLrl8doTted0d7fKZ3XemT8PhGP1&gaa_ts=686e536b&gaa_sig=llmoNda5lF1t_Eo2aR101-pG5315ErjtxUYMX-Oyc2hNHeAnd3tgNrko68AbC9BkXypPjvdocZtRAl0qe0bDEQ%3D%3D)\n",
      "2. [Artificial Intelligence News - Analysis & Events](https://www.artificialintelligence-news.com/)\n",
      "3. [TechCrunch - Artificial Intelligence & Machine Learning](https://techcrunch.com/category/artificial-intelligence/)\n",
      "4. [MIT News - Artificial Intelligence](https://news.mit.edu/topic/artificial-intelligence2)\n",
      "\n",
      "The sum of 10 and 20 divided by 2 is 15.\n"
     ]
    }
   ],
   "source": [
    "messages = graph.invoke(\n",
    "    {\n",
    "        \"messages\":HumanMessage(\n",
    "            content='provide me latest AI News, add 10 and 20 and divide by 2'\n",
    "        )\n",
    "    }\n",
    ")\n",
    "for message in messages['messages']:\n",
    "    message.pretty_print()"
   ]
  },
  {
   "cell_type": "code",
   "execution_count": 80,
   "id": "7e2c6d46",
   "metadata": {},
   "outputs": [
    {
     "name": "stdout",
     "output_type": "stream",
     "text": [
      "================================\u001b[1m Human Message \u001b[0m=================================\n",
      "\n",
      "what is machine learning?\n",
      "==================================\u001b[1m Ai Message \u001b[0m==================================\n",
      "Tool Calls:\n",
      "  wikipedia (call_3YrdkVEQd6921nn8DWf6PCT4)\n",
      " Call ID: call_3YrdkVEQd6921nn8DWf6PCT4\n",
      "  Args:\n",
      "    query: machine learning\n",
      "=================================\u001b[1m Tool Message \u001b[0m=================================\n",
      "Name: wikipedia\n",
      "\n",
      "Page: Machine learning\n",
      "Summary: Machine learning (ML) is a field of study in artificial intelligence concerned with the development and study of statistical algorithms that can learn from data and generalise to unseen data, and thus perform tasks without explicit instructions. Within a subdiscipline in machine learning, advances in the field of deep learning have allowed neural networks, a class of statistical algorithms, to surpass many previous machine learning approaches in performance.\n",
      "ML fi\n",
      "==================================\u001b[1m Ai Message \u001b[0m==================================\n",
      "\n",
      "Machine learning (ML) is a field of study within artificial intelligence that focuses on developing algorithms that can learn from data and generalize to unseen data, enabling them to perform tasks without explicit instructions. Advances in deep learning, a subfield of machine learning involving neural networks, have led to significant improvements in performance over previous approaches.\n"
     ]
    }
   ],
   "source": [
    "messages = graph.invoke(\n",
    "    {\n",
    "        \"messages\":HumanMessage(\n",
    "            content='what is machine learning?'\n",
    "        )\n",
    "    }\n",
    ")\n",
    "for message in messages['messages']:\n",
    "    message.pretty_print()"
   ]
  },
  {
   "cell_type": "markdown",
   "id": "031618e9",
   "metadata": {},
   "source": [
    "### Agent Memory\n",
    "\n"
   ]
  },
  {
   "cell_type": "code",
   "execution_count": 81,
   "id": "1c83419e",
   "metadata": {},
   "outputs": [
    {
     "name": "stdout",
     "output_type": "stream",
     "text": [
      "================================\u001b[1m Human Message \u001b[0m=================================\n",
      "\n",
      "what is 5 plus 8\n",
      "==================================\u001b[1m Ai Message \u001b[0m==================================\n",
      "Tool Calls:\n",
      "  add (call_W9yOq6wT2GwZHoccGp525ZLA)\n",
      " Call ID: call_W9yOq6wT2GwZHoccGp525ZLA\n",
      "  Args:\n",
      "    a: 5\n",
      "    b: 8\n",
      "=================================\u001b[1m Tool Message \u001b[0m=================================\n",
      "Name: add\n",
      "\n",
      "13.0\n",
      "==================================\u001b[1m Ai Message \u001b[0m==================================\n",
      "\n",
      "The sum of 5 plus 8 is 13.\n"
     ]
    }
   ],
   "source": [
    "messages = graph.invoke(\n",
    "    {\n",
    "        \"messages\":HumanMessage(\n",
    "            content='what is 5 plus 8'\n",
    "        )\n",
    "    }\n",
    ")\n",
    "for message in messages['messages']:\n",
    "    message.pretty_print()"
   ]
  },
  {
   "cell_type": "code",
   "execution_count": 82,
   "id": "db314459",
   "metadata": {},
   "outputs": [
    {
     "name": "stdout",
     "output_type": "stream",
     "text": [
      "================================\u001b[1m Human Message \u001b[0m=================================\n",
      "\n",
      "Divide that by 5\n",
      "==================================\u001b[1m Ai Message \u001b[0m==================================\n",
      "Tool Calls:\n",
      "  divide (call_y8q3ejM9aF3ZcYiou79zV38l)\n",
      " Call ID: call_y8q3ejM9aF3ZcYiou79zV38l\n",
      "  Args:\n",
      "    a: 100\n",
      "    b: 5\n",
      "=================================\u001b[1m Tool Message \u001b[0m=================================\n",
      "Name: divide\n",
      "\n",
      "20.0\n",
      "==================================\u001b[1m Ai Message \u001b[0m==================================\n",
      "\n",
      "The result of dividing 100 by 5 is 20.\n"
     ]
    }
   ],
   "source": [
    "messages = [HumanMessage(content='Divide that by 5')]\n",
    "messages = graph.invoke(\n",
    "    {\n",
    "        \"messages\":messages\n",
    "        \n",
    "    }\n",
    ")\n",
    "for message in messages['messages']:\n",
    "    message.pretty_print()"
   ]
  },
  {
   "cell_type": "markdown",
   "id": "3b905101",
   "metadata": {},
   "source": [
    "### Memory Saver\n",
    "- LangGraph can use a checkPointer to  automatically save the graph state after each step.<br>\n",
    "- This built-in persistence layer gives us memory, allowing LangGraph to pick up from the last state.<br>\n",
    "- One of the easiest checkPointer to use is the MemorySaver, an in-memory key-value store for Graph state.<br>\n",
    "- All we need to do is simply compile the graph with a checkPointer, and our graph hs memory!!<br>\n",
    "\n",
    "\n",
    "\n",
    "\n",
    "![image.png](image.png)"
   ]
  },
  {
   "cell_type": "code",
   "execution_count": 83,
   "id": "e73194bf",
   "metadata": {},
   "outputs": [
    {
     "data": {
      "text/plain": [
       "<langgraph.graph.state.StateGraph at 0x1f18466d220>"
      ]
     },
     "execution_count": 83,
     "metadata": {},
     "output_type": "execute_result"
    }
   ],
   "source": [
    "## chatbot with langgraph\n",
    "from IPython.display import Image, display\n",
    "from langgraph.graph import StateGraph, START, END\n",
    "from langgraph.prebuilt import ToolNode, tools_condition\n",
    "\n",
    "## node definition\n",
    "def tool_calling_llm(state:State):\n",
    "    return {\"messages\": [llm_with_tools.invoke(state[\"messages\"])]}\n",
    "\n",
    "## graph definition\n",
    "builder = StateGraph(State)\n",
    "builder.add_node(\"tool_calling_llm\", tool_calling_llm)\n",
    "builder.add_node(\"tools\", ToolNode(tools))\n",
    "builder.add_edge(START, \"tool_calling_llm\")\n",
    "builder.add_conditional_edges(\n",
    "    \"tool_calling_llm\",\n",
    "    tools_condition,\n",
    ")\n",
    "builder.add_edge(\"tools\",\"tool_calling_llm\")\n",
    "\n"
   ]
  },
  {
   "cell_type": "code",
   "execution_count": 84,
   "id": "e9980b1a",
   "metadata": {},
   "outputs": [
    {
     "data": {
      "image/png": "[encoded data removed]",
      "text/plain": [
       "<IPython.core.display.Image object>"
      ]
     },
     "metadata": {},
     "output_type": "display_data"
    }
   ],
   "source": [
    "from langgraph.checkpoint.memory import MemorySaver\n",
    "memory = MemorySaver()\n",
    "graph_memory = builder.compile(checkpointer=memory) ## checkPointer is used to save the state of the graph in memory\n",
    "\n",
    "display(Image(graph_memory.get_graph().draw_mermaid_png()))\n",
    "\n"
   ]
  },
  {
   "cell_type": "code",
   "execution_count": 85,
   "id": "66c35be6",
   "metadata": {},
   "outputs": [
    {
     "name": "stdout",
     "output_type": "stream",
     "text": [
      "================================\u001b[1m Human Message \u001b[0m=================================\n",
      "\n",
      "what is 12 plus 13\n",
      "==================================\u001b[1m Ai Message \u001b[0m==================================\n",
      "Tool Calls:\n",
      "  add (call_1BXPY0nzDafUd43pVYBW6SCB)\n",
      " Call ID: call_1BXPY0nzDafUd43pVYBW6SCB\n",
      "  Args:\n",
      "    a: 12\n",
      "    b: 13\n",
      "=================================\u001b[1m Tool Message \u001b[0m=================================\n",
      "Name: add\n",
      "\n",
      "25.0\n",
      "==================================\u001b[1m Ai Message \u001b[0m==================================\n",
      "\n",
      "12 plus 13 equals 25.\n"
     ]
    }
   ],
   "source": [
    "## Specify the thread\n",
    "\n",
    "config = { 'configurable': { 'thread_id': '123' } }\n",
    "\n",
    "## Specify an input\n",
    "\n",
    "messages = [HumanMessage(content='what is 12 plus 13')]\n",
    "\n",
    "messages = graph_memory.invoke({'messages':messages},config=config)\n",
    "\n",
    "for message in messages['messages']:\n",
    "    message.pretty_print()"
   ]
  },
  {
   "cell_type": "code",
   "execution_count": 86,
   "id": "e9b84020",
   "metadata": {},
   "outputs": [
    {
     "name": "stdout",
     "output_type": "stream",
     "text": [
      "================================\u001b[1m Human Message \u001b[0m=================================\n",
      "\n",
      "what is 12 plus 13\n",
      "==================================\u001b[1m Ai Message \u001b[0m==================================\n",
      "Tool Calls:\n",
      "  add (call_1BXPY0nzDafUd43pVYBW6SCB)\n",
      " Call ID: call_1BXPY0nzDafUd43pVYBW6SCB\n",
      "  Args:\n",
      "    a: 12\n",
      "    b: 13\n",
      "=================================\u001b[1m Tool Message \u001b[0m=================================\n",
      "Name: add\n",
      "\n",
      "25.0\n",
      "==================================\u001b[1m Ai Message \u001b[0m==================================\n",
      "\n",
      "12 plus 13 equals 25.\n",
      "================================\u001b[1m Human Message \u001b[0m=================================\n",
      "\n",
      "add that number to 33\n",
      "==================================\u001b[1m Ai Message \u001b[0m==================================\n",
      "Tool Calls:\n",
      "  add (call_E71kw84gZaOtwb44hoy1Tv0h)\n",
      " Call ID: call_E71kw84gZaOtwb44hoy1Tv0h\n",
      "  Args:\n",
      "    a: 25\n",
      "    b: 33\n",
      "=================================\u001b[1m Tool Message \u001b[0m=================================\n",
      "Name: add\n",
      "\n",
      "58.0\n",
      "==================================\u001b[1m Ai Message \u001b[0m==================================\n",
      "\n",
      "25 plus 33 equals 58.\n"
     ]
    }
   ],
   "source": [
    "messages = [HumanMessage(content='add that number to 33')]\n",
    "\n",
    "messages = graph_memory.invoke({'messages':messages},config=config)\n",
    "\n",
    "for message in messages['messages']:\n",
    "    message.pretty_print()"
   ]
  },
  {
   "cell_type": "code",
   "execution_count": 87,
   "id": "b6240917",
   "metadata": {},
   "outputs": [
    {
     "name": "stdout",
     "output_type": "stream",
     "text": [
      "================================\u001b[1m Human Message \u001b[0m=================================\n",
      "\n",
      "what is 12 plus 13\n",
      "==================================\u001b[1m Ai Message \u001b[0m==================================\n",
      "Tool Calls:\n",
      "  add (call_1BXPY0nzDafUd43pVYBW6SCB)\n",
      " Call ID: call_1BXPY0nzDafUd43pVYBW6SCB\n",
      "  Args:\n",
      "    a: 12\n",
      "    b: 13\n",
      "=================================\u001b[1m Tool Message \u001b[0m=================================\n",
      "Name: add\n",
      "\n",
      "25.0\n",
      "==================================\u001b[1m Ai Message \u001b[0m==================================\n",
      "\n",
      "12 plus 13 equals 25.\n",
      "================================\u001b[1m Human Message \u001b[0m=================================\n",
      "\n",
      "add that number to 33\n",
      "==================================\u001b[1m Ai Message \u001b[0m==================================\n",
      "Tool Calls:\n",
      "  add (call_E71kw84gZaOtwb44hoy1Tv0h)\n",
      " Call ID: call_E71kw84gZaOtwb44hoy1Tv0h\n",
      "  Args:\n",
      "    a: 25\n",
      "    b: 33\n",
      "=================================\u001b[1m Tool Message \u001b[0m=================================\n",
      "Name: add\n",
      "\n",
      "58.0\n",
      "==================================\u001b[1m Ai Message \u001b[0m==================================\n",
      "\n",
      "25 plus 33 equals 58.\n",
      "================================\u001b[1m Human Message \u001b[0m=================================\n",
      "\n",
      "divide that by 2\n",
      "==================================\u001b[1m Ai Message \u001b[0m==================================\n",
      "Tool Calls:\n",
      "  divide (call_TGIGsq2mOJuUzgCbzBF08uuo)\n",
      " Call ID: call_TGIGsq2mOJuUzgCbzBF08uuo\n",
      "  Args:\n",
      "    a: 58\n",
      "    b: 2\n",
      "=================================\u001b[1m Tool Message \u001b[0m=================================\n",
      "Name: divide\n",
      "\n",
      "29.0\n",
      "==================================\u001b[1m Ai Message \u001b[0m==================================\n",
      "\n",
      "58 divided by 2 equals 29.\n"
     ]
    }
   ],
   "source": [
    "messages = [HumanMessage(content='divide that by 2')]\n",
    "\n",
    "messages = graph_memory.invoke({'messages':messages},config=config)\n",
    "\n",
    "for message in messages['messages']:\n",
    "    message.pretty_print()"
   ]
  },
  {
   "cell_type": "code",
   "execution_count": null,
   "id": "40000881",
   "metadata": {},
   "outputs": [],
   "source": []
  }
 ],
 "metadata": {
  "kernelspec": {
   "display_name": "agentic-ai",
   "language": "python",
   "name": "python3"
  },
  "language_info": {
   "codemirror_mode": {
    "name": "ipython",
    "version": 3
   },
   "file_extension": ".py",
   "mimetype": "text/x-python",
   "name": "python",
   "nbconvert_exporter": "python",
   "pygments_lexer": "ipython3",
   "version": "3.13.3"
  }
 },
 "nbformat": 4,
 "nbformat_minor": 5
}
