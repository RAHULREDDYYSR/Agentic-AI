{
 "cells": [
  {
   "cell_type": "markdown",
   "id": "ea1af3c4",
   "metadata": {},
   "source": [
    "### Building chatbot with Multiple Tools Using LangGraph\n",
    "\n",
    "#### AIM\n",
    " Create a chatbot with tool capabilities from arxiv, wikipedia search and dome functions"
   ]
  },
  {
   "cell_type": "code",
   "execution_count": 96,
   "id": "96e8e4f9",
   "metadata": {},
   "outputs": [
    {
     "data": {
      "text/plain": [
       "True"
      ]
     },
     "execution_count": 96,
     "metadata": {},
     "output_type": "execute_result"
    }
   ],
   "source": [
    "from dotenv import load_dotenv\n",
    "load_dotenv()"
   ]
  },
  {
   "cell_type": "code",
   "execution_count": 97,
   "id": "f2e0187f",
   "metadata": {},
   "outputs": [],
   "source": [
    "from langchain_community.tools import ArxivQueryRun, WikipediaQueryRun\n",
    "from langchain_community.utilities import WikipediaAPIWrapper, ArxivAPIWrapper"
   ]
  },
  {
   "cell_type": "code",
   "execution_count": 98,
   "id": "598dcdeb",
   "metadata": {},
   "outputs": [
    {
     "name": "stdout",
     "output_type": "stream",
     "text": [
      "arxiv\n"
     ]
    }
   ],
   "source": [
    "api_wrapper_arxiv = ArxivAPIWrapper(top_k_results=2, doc_content_chars_max=500)\n",
    "arxiv = ArxivQueryRun(api_wrapper=api_wrapper_arxiv)\n",
    "print(arxiv.name)"
   ]
  },
  {
   "cell_type": "code",
   "execution_count": 99,
   "id": "d66b2e8b",
   "metadata": {},
   "outputs": [
    {
     "data": {
      "text/plain": [
       "\"Published: 2024-07-22\\nTitle: Attention Is All You Need But You Don't Need All Of It For Inference of Large Language Models\\nAuthors: Georgy Tyukin, Gbetondji J-S Dovonon, Jean Kaddour, Pasquale Minervini\\nSummary: The inference demand for LLMs has skyrocketed in recent months, and serving\\nmodels with low latencies remains challenging due to the quadratic input length\\ncomplexity of the attention layers. In this work, we investigate the effect of\\ndropping MLP and attention layers at inference time o\""
      ]
     },
     "execution_count": 99,
     "metadata": {},
     "output_type": "execute_result"
    }
   ],
   "source": [
    "arxiv.invoke(\"attention is all you need\")"
   ]
  },
  {
   "cell_type": "code",
   "execution_count": 100,
   "id": "45417ae0",
   "metadata": {},
   "outputs": [
    {
     "name": "stdout",
     "output_type": "stream",
     "text": [
      "wikipedia\n"
     ]
    }
   ],
   "source": [
    "api_wrapper_wiki = WikipediaAPIWrapper(top_k_results=2, doc_content_chars_max=500)\n",
    "wiki = WikipediaQueryRun(api_wrapper=api_wrapper_wiki)\n",
    "print(wiki.name)"
   ]
  },
  {
   "cell_type": "code",
   "execution_count": 101,
   "id": "24d54d09",
   "metadata": {},
   "outputs": [
    {
     "data": {
      "text/plain": [
       "'Page: Dragon Ball\\nSummary: Dragon Ball (Japanese: ドラゴンボール, Hepburn: Doragon Bōru) is a Japanese media franchise created by Akira Toriyama in 1984. The initial manga, written and illustrated by Toriyama, was serialized in Weekly Shōnen Jump from 1984 to 1995, with the 519 individual chapters collected in 42 tankōbon volumes by its publisher Shueisha. Dragon Ball was originally inspired by the classical 16th-century Chinese novel Journey to the West, combined with elements of Hong Kong martial art'"
      ]
     },
     "execution_count": 101,
     "metadata": {},
     "output_type": "execute_result"
    }
   ],
   "source": [
    "wiki.invoke(\"Dragon Ball\")"
   ]
  },
  {
   "cell_type": "code",
   "execution_count": 102,
   "id": "7165bf8f",
   "metadata": {},
   "outputs": [
    {
     "data": {
      "text/plain": [
       "{'query': 'provide me the recent AI news for July 8th 2025',\n",
       " 'follow_up_questions': None,\n",
       " 'answer': None,\n",
       " 'images': [],\n",
       " 'results': [{'url': 'https://www.artificialintelligence-news.com/',\n",
       "   'title': 'AI News | Latest AI News, Analysis & Events',\n",
       "   'content': 'Apple loses key AI leader to Meta. July 8, 2025. 3D assets being generated as Tencent releases its new Hunyuan3D-PolyGen model that could be. Artificial',\n",
       "   'score': 0.8846886,\n",
       "   'raw_content': None},\n",
       "  {'url': 'https://www.youtube.com/watch?v=B26PGoHI4N8',\n",
       "   'title': \"Apple Loses Another AI Exec, Amazon's Prime Day Weakness\",\n",
       "   'content': \"Apple Loses Another AI Exec, Amazon's Prime Day Weakness | Bloomberg Tech 7/8/2025. 3K views · 7 hours ago ...more. Bloomberg Technology. 677K.\",\n",
       "   'score': 0.7715858,\n",
       "   'raw_content': None},\n",
       "  {'url': 'https://www.state.gov/briefings/department-press-briefing-july-8-2025/',\n",
       "   'title': 'Department Press Briefing – July 8, 2025',\n",
       "   'content': '... AI – not that you have some questions about that. ... So however many are going to participate in the rebuilding and in an end to the suffering,',\n",
       "   'score': 0.71377134,\n",
       "   'raw_content': None},\n",
       "  {'url': 'https://www.edsurge.com/news/2025-07-08-students-ai-chats-reveal-their-largest-stressors',\n",
       "   'title': \"Students' AI Chats Reveal Their Largest Stressors | EdSurge News\",\n",
       "   'content': 'A new report found middle and high school students, regardless of age or location, are discussing the same challenges with AI bots. By Lauren',\n",
       "   'score': 0.15552714,\n",
       "   'raw_content': None},\n",
       "  {'url': 'https://www.cnn.com/2025/07/08/tech/grok-ai-antisemitism',\n",
       "   'title': \"Elon Musk's AI chatbot is suddenly posting antisemitic tropes - CNN\",\n",
       "   'content': \"Grok, the AI-powered chatbot created by Elon Musk's xAI, has begun pushing antisemitic tropes in its responses to some users' queries,\",\n",
       "   'score': 0.13898711,\n",
       "   'raw_content': None}],\n",
       " 'response_time': 1.16}"
      ]
     },
     "execution_count": 102,
     "metadata": {},
     "output_type": "execute_result"
    }
   ],
   "source": [
    "from langchain_tavily import TavilySearch\n",
    "\n",
    "tavily = TavilySearch()\n",
    "\n",
    "tavily.invoke(\"provide me the recent AI news for July 8th 2025\")\n"
   ]
  },
  {
   "cell_type": "code",
   "execution_count": 103,
   "id": "d3927f56",
   "metadata": {},
   "outputs": [],
   "source": [
    "### combine all the tools in a list\n",
    "\n",
    "tools=[arxiv,wiki,tavily]"
   ]
  },
  {
   "cell_type": "code",
   "execution_count": 104,
   "id": "30b5df0c",
   "metadata": {},
   "outputs": [],
   "source": [
    "## Initialize my llm model\n",
    "from langchain_groq import ChatGroq\n",
    "from langchain_openai import ChatOpenAI\n",
    "llm = ChatGroq(model='deepseek-r1-distill-llama-70b') #deepseek-r1-distill-llama-70b,llama-3.1-8b-instant\n",
    "#llm = ChatOpenAI(model='gpt-4.1-nano')\n",
    "\n",
    "llm_with_tools = llm.bind_tools(tools)\n"
   ]
  },
  {
   "cell_type": "code",
   "execution_count": 105,
   "id": "12c81d24",
   "metadata": {},
   "outputs": [
    {
     "data": {
      "text/plain": [
       "AIMessage(content='', additional_kwargs={'reasoning_content': 'Okay, the user is asking for recent AI news. Since the query is about current events, I should use the tavily_search tool.\\n\\nI need to set the search_depth to \"advanced\" because AI news can be complex and requires in-depth information. The topic should be \"news\" since it\\'s about current events.\\n\\nI\\'ll set the time_range to \"week\" to get the latest updates from the past week. No need to include images or favicons here.\\n\\nSo, the function call will be with the query \"recent AI news\", search_depth as advanced, topic as news, and time_range as week.\\n', 'tool_calls': [{'id': 'bjvtjzvrf', 'function': {'arguments': '{\"query\":\"recent AI news\",\"search_depth\":\"advanced\",\"time_range\":\"week\",\"topic\":\"news\"}', 'name': 'tavily_search'}, 'type': 'function'}]}, response_metadata={'token_usage': {'completion_tokens': 178, 'prompt_tokens': 1227, 'total_tokens': 1405, 'completion_time': 0.700627901, 'prompt_time': 0.094324961, 'queue_time': 0.053285976, 'total_time': 0.794952862}, 'model_name': 'deepseek-r1-distill-llama-70b', 'system_fingerprint': 'fp_1bbe7845ec', 'finish_reason': 'tool_calls', 'logprobs': None}, id='run--c81548ae-ddee-4be1-9418-d0659eb8148e-0', tool_calls=[{'name': 'tavily_search', 'args': {'query': 'recent AI news', 'search_depth': 'advanced', 'time_range': 'week', 'topic': 'news'}, 'id': 'bjvtjzvrf', 'type': 'tool_call'}], usage_metadata={'input_tokens': 1227, 'output_tokens': 178, 'total_tokens': 1405})"
      ]
     },
     "execution_count": 105,
     "metadata": {},
     "output_type": "execute_result"
    }
   ],
   "source": [
    "from pprint import pprint\n",
    "from langchain_core.messages import HumanMessage, AIMessage\n",
    "response = llm_with_tools.invoke([HumanMessage(content=f'What is the recent AI news')])\n",
    "response"
   ]
  },
  {
   "cell_type": "code",
   "execution_count": 106,
   "id": "b6544758",
   "metadata": {},
   "outputs": [
    {
     "data": {
      "text/plain": [
       "[{'name': 'tavily_search',\n",
       "  'args': {'query': 'recent AI news',\n",
       "   'search_depth': 'advanced',\n",
       "   'time_range': 'day',\n",
       "   'topic': 'general'},\n",
       "  'id': 'yprnp32gp',\n",
       "  'type': 'tool_call'}]"
      ]
     },
     "execution_count": 106,
     "metadata": {},
     "output_type": "execute_result"
    }
   ],
   "source": [
    "llm_with_tools.invoke([HumanMessage(content=f'What is the recent AI news')]).tool_calls"
   ]
  },
  {
   "cell_type": "code",
   "execution_count": 107,
   "id": "2db3da28",
   "metadata": {},
   "outputs": [],
   "source": [
    "## State schema\n",
    "from typing_extensions import TypedDict\n",
    "from langchain_core.messages import AnyMessage\n",
    "from typing import Annotated\n",
    "from langgraph.graph.message import add_messages\n",
    "\n",
    "class State(TypedDict):\n",
    "    messages:Annotated[list[AnyMessage],add_messages]"
   ]
  },
  {
   "cell_type": "code",
   "execution_count": 108,
   "id": "56d80a18",
   "metadata": {},
   "outputs": [
    {
     "data": {
      "image/png": "[encoded data removed]",
      "text/plain": [
       "<IPython.core.display.Image object>"
      ]
     },
     "metadata": {},
     "output_type": "display_data"
    }
   ],
   "source": [
    "### Entire Chatbot With LangGraph\n",
    "\n",
    "from IPython.display import Image, display\n",
    "from langgraph.graph import StateGraph, START,END\n",
    "from langgraph.prebuilt import ToolNode, tools_condition\n",
    "\n",
    "### Node definition\n",
    "def tool_calling_llm(state:State):\n",
    "    return {\"messages\":[llm_with_tools.invoke(state['messages'])]}\n",
    "\n",
    "\n",
    "# Build graph\n",
    "builder = StateGraph(State)\n",
    "builder.add_node('tool_calling_llm', tool_calling_llm)\n",
    "builder.add_node('tools', ToolNode(tools))\n",
    "\n",
    "builder.add_edge(START,'tool_calling_llm')\n",
    "builder.add_conditional_edges(\n",
    "    'tool_calling_llm',\n",
    "    # if the latest message (result) from assistant is tool call -> tool_condition routes to tools\n",
    "    # if the latest message (result) from assistant is not a tool call -> tool_condition routes to END\n",
    "    tools_condition\n",
    ")\n",
    "builder.add_edge('tools',END)\n",
    "\n",
    "graph = builder.compile()\n",
    "display(Image(graph.get_graph().draw_mermaid_png()))"
   ]
  },
  {
   "cell_type": "code",
   "execution_count": 109,
   "id": "26948b58",
   "metadata": {},
   "outputs": [],
   "source": [
    "messages = graph.invoke(\n",
    "    {\n",
    "        \"messages\":HumanMessage(\n",
    "            content='what is attention is all you need'\n",
    "        )\n",
    "    }\n",
    ")"
   ]
  },
  {
   "cell_type": "code",
   "execution_count": 110,
   "id": "49444a49",
   "metadata": {},
   "outputs": [
    {
     "name": "stdout",
     "output_type": "stream",
     "text": [
      "================================\u001b[1m Human Message \u001b[0m=================================\n",
      "\n",
      "what is attention is all you need\n",
      "==================================\u001b[1m Ai Message \u001b[0m==================================\n",
      "Tool Calls:\n",
      "  wikipedia (mf1v40jnc)\n",
      " Call ID: mf1v40jnc\n",
      "  Args:\n",
      "    query: Attention Is All You Need\n",
      "=================================\u001b[1m Tool Message \u001b[0m=================================\n",
      "Name: wikipedia\n",
      "\n",
      "Page: Attention Is All You Need\n",
      "Summary: \"Attention Is All You Need\" is a 2017 landmark research paper in machine learning authored by eight scientists working at Google. The paper introduced a new deep learning architecture known as the transformer, based on the attention mechanism proposed in 2014 by Bahdanau et al. It is considered a foundational paper in modern artificial intelligence, and a main contributor to the AI boom, as the transformer approach has become the main architecture of a wi\n"
     ]
    }
   ],
   "source": [
    "for message in messages['messages']:\n",
    "    message.pretty_print()"
   ]
  },
  {
   "cell_type": "code",
   "execution_count": 111,
   "id": "84c425d0",
   "metadata": {},
   "outputs": [
    {
     "name": "stdout",
     "output_type": "stream",
     "text": [
      "================================\u001b[1m Human Message \u001b[0m=================================\n",
      "\n",
      "provide me latest AI News\n",
      "==================================\u001b[1m Ai Message \u001b[0m==================================\n",
      "Tool Calls:\n",
      "  tavily_search (rvrge5y7n)\n",
      " Call ID: rvrge5y7n\n",
      "  Args:\n",
      "    exclude_domains: None\n",
      "    include_domains: None\n",
      "    include_favicon: None\n",
      "    include_images: None\n",
      "    query: latest AI news\n",
      "    search_depth: advanced\n",
      "    time_range: day\n",
      "    topic: news\n",
      "=================================\u001b[1m Tool Message \u001b[0m=================================\n",
      "Name: tavily_search\n",
      "\n",
      "{\"query\": \"latest AI news\", \"follow_up_questions\": null, \"answer\": null, \"images\": [], \"results\": [{\"url\": \"https://www.techinasia.com/news/foxconn-cloud-unit-sees-over-50-q2-profit-surge-on-ai\", \"title\": \"Foxconn cloud unit sees over 50% Q2 profit surge on AI - Tech in Asia\", \"score\": 0.48952848, \"published_date\": \"Tue, 08 Jul 2025 08:16:00 GMT\", \"content\": \"Published Time: 2025-07-08\\n\\nFoxconn cloud unit sees over 50% Q2 profit surge on AI\\n\\n===============\\n\\nNewsPremium\\n\\n   News\\n   Jobs\\n   Database\\n   Events\\n   About\\n   Advertise\\n\\n   Sign Up\\n   Log In\\n\\nSubscribe\\n\\nI'm fundraising\\n\\nSubscribe\\n\\nSubscribeSubscribe\\n\\nTired of ads? Enjoy an ad-free experience by signing up.\\n\\n👩‍🍳 How we use AI at Tech in Asia, thoughtfully and responsibly. \\n\\n🧔‍♂️ A friendly human may check it before it goes live. More news here\\n\\n1h ago\\n\\n·\\n\\nNews [...] FII’s 60% growth in AI server sales reflects a massive market transformation occurring across the entire tech sector.\\n\\nThe global AI server market is projected to grow from $31.2 billion in 2023 to $430 billion by 2033, representing a 30.4% compound annual growth rate 1.\\n\\nThis aligns with the AI chip market’s expected growth from $23 billion to $341 billion over the same period 1, showing how FII’s success is part of a larger AI infrastructure buildout. [...] FII’s growth in GPU modules and substrates shows how server manufacturers are capturing more value from high-margin AI components beyond traditional server assembly.\\n\\nThe white box server market was valued at $16.06 billion in 2023 with a projected 16.2% CAGR through 2030 6, indicating strong demand for the cost-effective, customizable servers that companies like FII produce.\", \"raw_content\": null}, {\"url\": \"http://www.seatrade-maritime.com/ports-logistics/nize-intelligent-technology-innovative-port-development\", \"title\": \"NIZE Intelligent Technology: innovative port development - Seatrade Maritime\", \"score\": 0.47489962, \"published_date\": \"Tue, 08 Jul 2025 08:15:54 GMT\", \"content\": \"On the other hand, in the field of generative AI—widely discussed in relation to models like ChatGPT and DeepSeek AI—NIZE Technology has also embarked on relevant research and development, which is advancing at a rapid pace, Huang continued. [...] The company has already integrated extensive AI capabilities into its systems to enhance their functionality which can mainly be divided into two categories: discriminative AI and generative AI.\\n\\nRelated:Cosco Shipping Specialized Carriers ink agreement with Brazil port [...] NIZE Technology has achieved considerable maturity in terms of discriminative AI which has been implemented at Shanghai Port, the world’s busiest container port in terms of throughput. Handling over 228 million data entries annually, Shanghai Port provides our AI system with a wealth of information over time, continuously strengthening its discriminative capabilities.\", \"raw_content\": null}, {\"url\": \"https://www.businessinsider.com/shielding-my-kids-from-ai-would-be-a-mistake-2025-7\", \"title\": \"Shielding my kids from AI would be a mistake, so I use it to parent them - Business Insider\", \"score\": 0.4066976, \"published_date\": \"Tue, 08 Jul 2025 10:43:00 GMT\", \"content\": \"I work in AI, and now I use it for parenting my 5 kids. Shielding them from it would be a mistake.\\n==================================================================================================\\n\\n As told to Kelly Burch\\n\\nImage 1: Adam Lyons and family\\n\\n- [x] \\n\\nAdam Lyons uses AI both in his work and personal time. Courtesy of Adam Lyons \\n\\nJul 8, 2025, 10:43 AM UTC\\n\\nShare\\n\\nFacebookEmailX LinkedIn Copy link Impact Link\\n\\nSave SavedRead in app [...] AI enhances kids' problem-solving\\n---------------------------------\\n\\nIn our house, \\\"Have you asked AI for assistance?\\\" is a common refrain. It doesn't just happen with schoolwork, either.\\n\\nRecently, the electronic gate on our ranch broke. No one in the family knew how to fix it, so we used AI to walk us through buying a multimeter and testing the electronics. It became a family project, and we all learned a lot. We've also used AI — followed by a trip to Home Depot — to fix our HVAC system. [...] Published Time: 2025-07-08T10:43:01Z\\n\\nShielding My Kids From AI Would Be a Mistake - Business Insider\\n\\n===============\\n\\n\\nSearch\\n\\nBusiness\\n\\nStrategy\\n\\nEconomy\\n\\nFinance\\n\\nRetail\\n\\nAdvertising\\n\\nCareers\\n\\nMedia\\n\\nReal Estate\\n\\nSmall Business\\n\\nThe Better Work Project\\n\\nPersonal Finance\\n\\nTech\\n\\nScience\\n\\nAI\\n\\nEnterprise\\n\\nTransportation\\n\\nStartups\\n\\nInnovation\\n\\nMarkets\\n\\nStocks\\n\\nIndices\\n\\nCommodities\\n\\nCrypto\\n\\nCurrencies\\n\\nETFs\\n\\nLifestyle\\n\\nEntertainment\\n\\nCulture\\n\\nTravel\\n\\nFood\\n\\nHealth\\n\\nParenting\\n\\nPolitics\", \"raw_content\": null}, {\"url\": \"https://www.newsweek.com/passwords-ai-cybersecurity-biometrics-2094604\", \"title\": \"You Might Never Need to Change Your Password Again - Newsweek\", \"score\": 0.405567, \"published_date\": \"Tue, 08 Jul 2025 09:17:01 GMT\", \"content\": \"\\\"AI is reshaping the security landscape for passwords on both sides of the equation. For everyday users and defenders, AI helps detect suspicious logins, flag credential stuffing attempts faster, and power smarter passwordless authentication methods like biometrics.\\n\\n\\\"But attackers are also using AI to crack passwords faster through automated brute-force attacks and to craft more convincing phishing schemes that steal credentials in the first place. [...] \\\"AI isn't just speeding up brute-force attacks; it's decoding password patterns, auto-generating phishing content and simulating human behavior more convincingly than ever.\\n\\n\\\"On the flip side, AI is helping defenders, too — from spotting credential stuffing attacks in real time to alerting users when their passwords are weak or reused. But we can't let AI be a Band-Aid. [...] As with any space in tech right now, the biggest question is how AI will impact the future.\\n\\nWhen it comes to passwords, the consensus is that AI is a double-edged sword; it provides users greater tools and detection methods for security purposes, but it gives criminals and hackers those same tools as well.\\n\\n\\\"It is helping both users and attackers, but right now, attackers are scaling faster,\\\" Halder told _Newsweek_.\", \"raw_content\": null}, {\"url\": \"https://www.hospitalitynet.org/video/69002593.html\", \"title\": \"HITEC Rewind: Phunware on Mobile Engagement and AI in Hospitality - Hospitality Net\", \"score\": 0.36629558, \"published_date\": \"Tue, 08 Jul 2025 07:06:51 GMT\", \"content\": \"At HITEC 2025, Harman Narula, CEO of Canary Technologies, introduced the company\\\"s new suite of AI solutions, including voice, messaging, and upselling tools. In our conversation, he explained how Canary\\\"s AI products help hotels answer every call, personalise guest interactions, and unlock new revenue opportunities. Rather than replacing staff, these tools aim to support leaner teams and elevate the overall guest experience. As labour shortages persist, Narula sees AI as a vital partner in [...] At HITEC 2025, tech strategist Floor Bleeker offered a sharp view into the future of AI in hospitality. From autonomous agents and robotics to the transformation of the hotel tech stack, he sees AI replacing not just roles, but entire systems like PMS and CRS. While jobs will be lost, Bleeker believes travel demand will rise, and the winners will be hotel owners who can adapt fast. With agents at the centre, the next five years could bring a complete reshaping of how hotels operate and engage [...] At HITEC 2025 in Indianapolis, we spoke with Jeremy Krol, CEO of Phunware, about how mobile technology and AI are reshaping guest interactions in hospitality. Jeremy explained how Phunware\\\"s platform enhances the guest experience by combining branded mobile apps, wayfinding, and behavioural data to drive engagement and revenue. He also shared how AI is enabling predictive personalisation while empowering staff to focus on meaningful guest connections.\\n\\nRelated\\n\\nRelated Press Release\", \"raw_content\": null}], \"response_time\": 1.18}\n"
     ]
    }
   ],
   "source": [
    "messages = graph.invoke(\n",
    "    {\n",
    "        \"messages\":HumanMessage(\n",
    "            content='provide me latest AI News'\n",
    "        )\n",
    "    }\n",
    ")\n",
    "for message in messages['messages']:\n",
    "    message.pretty_print()"
   ]
  },
  {
   "cell_type": "code",
   "execution_count": 112,
   "id": "f4c8bc02",
   "metadata": {},
   "outputs": [
    {
     "name": "stdout",
     "output_type": "stream",
     "text": [
      "================================\u001b[1m Human Message \u001b[0m=================================\n",
      "\n",
      "what is Machine learning?\n",
      "==================================\u001b[1m Ai Message \u001b[0m==================================\n",
      "Tool Calls:\n",
      "  wikipedia (kyjjqbb8v)\n",
      " Call ID: kyjjqbb8v\n",
      "  Args:\n",
      "    query: Machine learning\n",
      "=================================\u001b[1m Tool Message \u001b[0m=================================\n",
      "Name: wikipedia\n",
      "\n",
      "Page: Machine learning\n",
      "Summary: Machine learning (ML) is a field of study in artificial intelligence concerned with the development and study of statistical algorithms that can learn from data and generalise to unseen data, and thus perform tasks without explicit instructions. Within a subdiscipline in machine learning, advances in the field of deep learning have allowed neural networks, a class of statistical algorithms, to surpass many previous machine learning approaches in performance.\n",
      "ML fi\n"
     ]
    }
   ],
   "source": [
    "messages = graph.invoke(\n",
    "    {\n",
    "        \"messages\":HumanMessage(\n",
    "            content='what is Machine learning?'\n",
    "        )\n",
    "    }\n",
    ")\n",
    "for message in messages['messages']:\n",
    "    message.pretty_print()"
   ]
  },
  {
   "cell_type": "code",
   "execution_count": 113,
   "id": "ff8eac59",
   "metadata": {},
   "outputs": [
    {
     "name": "stdout",
     "output_type": "stream",
     "text": [
      "================================\u001b[1m Human Message \u001b[0m=================================\n",
      "\n",
      "what is 6+5?\n",
      "==================================\u001b[1m Ai Message \u001b[0m==================================\n",
      "\n",
      "The result of 6 + 5 is 11.\n"
     ]
    }
   ],
   "source": [
    "messages = graph.invoke(\n",
    "    {\n",
    "        \"messages\":HumanMessage(\n",
    "            content='what is 6+5?'\n",
    "        )\n",
    "    }\n",
    ")\n",
    "for message in messages['messages']:\n",
    "    message.pretty_print()"
   ]
  },
  {
   "cell_type": "code",
   "execution_count": null,
   "id": "0272d72a",
   "metadata": {},
   "outputs": [],
   "source": []
  }
 ],
 "metadata": {
  "kernelspec": {
   "display_name": "agentic-ai",
   "language": "python",
   "name": "python3"
  },
  "language_info": {
   "codemirror_mode": {
    "name": "ipython",
    "version": 3
   },
   "file_extension": ".py",
   "mimetype": "text/x-python",
   "name": "python",
   "nbconvert_exporter": "python",
   "pygments_lexer": "ipython3",
   "version": "3.13.3"
  }
 },
 "nbformat": 4,
 "nbformat_minor": 5
}
