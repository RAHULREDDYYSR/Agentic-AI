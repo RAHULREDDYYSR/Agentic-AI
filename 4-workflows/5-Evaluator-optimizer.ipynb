{
 "cells": [
  {
   "cell_type": "code",
   "execution_count": null,
   "id": "a1921509",
   "metadata": {},
   "outputs": [],
   "source": [
    "from dotenv import load_dotenv\n",
    "load_dotenv()\n",
    "from langchain_groq import ChatGroq\n",
    "from langchain_openai import ChatOpenAI\n",
    "from langchain_google_genai import ChatGoogleGenerativeAI\n",
    "from langchain_ollama import ChatOllama\n",
    "\n",
    "llm= ChatGroq(model='llama-3.1-8b-instant') \n",
    "chat = ChatOpenAI(model='gpt-4.1-nano', temperature=0.5)"
   ]
  },
  {
   "cell_type": "code",
   "execution_count": 43,
   "id": "9820d055",
   "metadata": {},
   "outputs": [],
   "source": [
    "from typing_extensions import Literal, TypedDict\n",
    "from pydantic import BaseModel, Field\n",
    "from langchain_core.messages import HumanMessage, AIMessage, SystemMessage\n",
    "import operator\n",
    "from typing import Annotated, List\n",
    "# Graph state\n",
    "\n",
    "class State(TypedDict):\n",
    "    joke: str\n",
    "    topic: str\n",
    "    feedback: str\n",
    "    funny_or_not: str"
   ]
  },
  {
   "cell_type": "code",
   "execution_count": 44,
   "id": "d8e3c479",
   "metadata": {},
   "outputs": [],
   "source": [
    "# Schema for structured output to use evaluation\n",
    "\n",
    "class Feedback(BaseModel):\n",
    "    grade: Literal['funny', 'not_funny'] = Field(\n",
    "        description='Is the joke funny or not funny'\n",
    "    )\n",
    "    Feedback:str = Field(\n",
    "        description='if the joke is not funny, provide feedback on how to improve it'\n",
    "    )\n",
    "\n",
    "evaluator = llm.with_structured_output(Feedback)"
   ]
  },
  {
   "cell_type": "code",
   "execution_count": 45,
   "id": "f98ab082",
   "metadata": {},
   "outputs": [],
   "source": [
    "# nodes\n",
    "def llm_call_generator(state):\n",
    "    \"\"\"LLM generates a joke\"\"\"\n",
    "\n",
    "    if state.get('feedback'):\n",
    "        msg = chat.invoke(\n",
    "            f\"Write a joke about {state['topic']} based on the feedback {state['feedback']}\"\n",
    "        )\n",
    "    else:\n",
    "        msg = chat.invoke(\n",
    "            f\"Write a dark joke about {state['topic']}\"\n",
    "        )\n",
    "    return {\"joke\":msg.content}\n",
    "\n",
    "\n",
    "def llm_call_evaluator(state):\n",
    "    \"\"\"LLM evaluates the joke\"\"\"\n",
    "    grade = evaluator.invoke(f\"grade the joke: {state['joke']}\")\n",
    "    return {'funny_or_not':grade.grade,'feedback':grade.Feedback}\n",
    "\n",
    "\n",
    "def route_joke(state):\n",
    "    \"\"\"Route back to joke generator if not funny\"\"\"\n",
    "    if state['funny_or_not'] == 'funny':\n",
    "        return 'Accepted'\n",
    "    else:\n",
    "        return 'Rejected + feedback'\n"
   ]
  },
  {
   "cell_type": "code",
   "execution_count": 46,
   "id": "eb638ce5",
   "metadata": {},
   "outputs": [
    {
     "data": {
      "image/png": "[encoded data removed]",
      "text/plain": [
       "<IPython.core.display.Image object>"
      ]
     },
     "metadata": {},
     "output_type": "display_data"
    }
   ],
   "source": [
    "from langgraph.graph import StateGraph, START, END\n",
    "from IPython.display import Image, display\n",
    "\n",
    "graph = StateGraph(State)\n",
    "\n",
    "#add nodes\n",
    "graph.add_node('llm_call_generator', llm_call_generator)\n",
    "graph.add_node('llm_call_evaluator', llm_call_evaluator)\n",
    "\n",
    "#add edges\n",
    "graph.add_edge(START,'llm_call_generator')\n",
    "graph.add_edge('llm_call_generator','llm_call_evaluator')\n",
    "graph.add_conditional_edges(\n",
    "    'llm_call_evaluator',\n",
    "    route_joke,\n",
    "    {\n",
    "        'Accepted': END,\n",
    "        'Rejected + feedback': 'llm_call_generator'\n",
    "    }\n",
    ")\n",
    "\n",
    "graph = graph.compile()\n",
    "\n",
    "display(Image(graph.get_graph().draw_mermaid_png()))\n"
   ]
  },
  {
   "cell_type": "code",
   "execution_count": 51,
   "id": "01d5943a",
   "metadata": {},
   "outputs": [],
   "source": [
    "#invoke \n",
    "state = {'topic':'undies'}\n",
    "result = graph.invoke(state)\n"
   ]
  },
  {
   "cell_type": "code",
   "execution_count": 52,
   "id": "c3ea745e",
   "metadata": {},
   "outputs": [
    {
     "data": {
      "text/plain": [
       "{'joke': 'Why did the pair of undies refuse to tell a joke?  \\n\\nBecause they didn’t want to get caught with their *pants* down—unless you think that’s a *brief* enough punchline!',\n",
       " 'topic': 'undies',\n",
       " 'feedback': 'The joke relies heavily on underwear puns which may be considered cheesy or not funny to some people. The unexpected twist at the end provides the punchline, however, the wordplay might be too straightforward for some.',\n",
       " 'funny_or_not': 'funny'}"
      ]
     },
     "execution_count": 52,
     "metadata": {},
     "output_type": "execute_result"
    }
   ],
   "source": [
    "result"
   ]
  },
  {
   "cell_type": "code",
   "execution_count": null,
   "id": "85809947",
   "metadata": {},
   "outputs": [],
   "source": []
  }
 ],
 "metadata": {
  "kernelspec": {
   "display_name": ".venv",
   "language": "python",
   "name": "python3"
  },
  "language_info": {
   "codemirror_mode": {
    "name": "ipython",
    "version": 3
   },
   "file_extension": ".py",
   "mimetype": "text/x-python",
   "name": "python",
   "nbconvert_exporter": "python",
   "pygments_lexer": "ipython3",
   "version": "3.13.3"
  }
 },
 "nbformat": 4,
 "nbformat_minor": 5
}
