{
 "cells": [
  {
   "cell_type": "code",
   "execution_count": 110,
   "id": "94c59862",
   "metadata": {},
   "outputs": [],
   "source": [
    "from dotenv import load_dotenv\n",
    "load_dotenv()\n",
    "from langchain_groq import ChatGroq\n",
    "from langchain_openai import ChatOpenAI\n",
    "from langchain_google_genai import ChatGoogleGenerativeAI\n",
    "from langchain_ollama import ChatOllama\n",
    "\n",
    "llm= ChatGroq(model='mistral-8x7b-32768')#  llama-3.1-8b-instant\n",
    "llm= ChatGroq(model='llama-3.1-8b-instant')  \n",
    "#llm = ChatGoogleGenerativeAI(model='gemini-1.5-flash-8b')\n",
    "#llm = ChatOllama(model='wizardlm2:7b')\n"
   ]
  },
  {
   "cell_type": "code",
   "execution_count": 111,
   "id": "1d254c3d",
   "metadata": {},
   "outputs": [],
   "source": [
    "from unittest import result\n",
    "from typing_extensions import Literal, TypedDict\n",
    "from pydantic import BaseModel, Field\n",
    "from langchain_core.messages import HumanMessage, AIMessage, SystemMessage\n",
    "\n",
    "class Route(BaseModel):\n",
    "    step: Literal['poem','story','joke']=Field(description='the next step in the routing process')\n",
    "\n",
    "# Augment the LLM with schema for structured output\n",
    "router = llm.with_structured_output(Route)\n",
    "\n",
    "\n",
    "# state class\n",
    "class State(TypedDict):\n",
    "    input:str\n",
    "    decision:str\n",
    "    output:str\n",
    "\n",
    "\n",
    "# nodes\n",
    "def llm_call_1(state):\n",
    "    \"\"\"Write a story\"\"\"\n",
    "    result = llm.invoke(state['input'])\n",
    "    return {'output':result.content}\n",
    "\n",
    "def llm_call_3(state):\n",
    "    \"\"\"Write a poem\"\"\"\n",
    "    result = llm.invoke(state['input'])\n",
    "    return {'output':result.content}\n",
    "\n",
    "def llm_call_2(state):\n",
    "    \"\"\"Write a joke\"\"\"\n",
    "    result = llm.invoke(state['input'])\n",
    "    return {'output':result.content}\n",
    "\n",
    "\n",
    "def llm_call_router(state):\n",
    "    \"\"\"Route the input to the appropriate node\"\"\"\n",
    "\n",
    "    decision = router.invoke(\n",
    "        [\n",
    "            SystemMessage(\n",
    "                content='Route the input to story, joke or poem based on the users request in few sentences'\n",
    "            ),\n",
    "            HumanMessage(\n",
    "                content=state['input']\n",
    "            )\n",
    "        ]\n",
    "    )\n",
    "    return {'decision':decision.step}\n",
    "\n",
    "\n",
    "# conditional edge function to route to the appropriate node\n",
    "def route_decision(state):\n",
    "    \"\"\"Route the input to the appropriate node\"\"\"\n",
    "    return state['decision']\n"
   ]
  },
  {
   "cell_type": "code",
   "execution_count": 112,
   "id": "de5302db",
   "metadata": {},
   "outputs": [
    {
     "data": {
      "image/png": "[encoded data removed]",
      "text/plain": [
       "<IPython.core.display.Image object>"
      ]
     },
     "metadata": {},
     "output_type": "display_data"
    }
   ],
   "source": [
    "from langgraph.graph import StateGraph, START,END\n",
    "from IPython.display import Image, display\n",
    "\n",
    "graph = StateGraph(State)\n",
    "\n",
    "graph.add_node('llm_call_router',llm_call_router)\n",
    "graph.add_node('llm_call_1',llm_call_1)\n",
    "graph.add_node('llm_call_2',llm_call_2)\n",
    "graph.add_node('llm_call_3',llm_call_3)\n",
    "graph.add_edge(START,'llm_call_router')\n",
    "\n",
    "graph.add_conditional_edges(\n",
    "    'llm_call_router',\n",
    "    route_decision,\n",
    "    {\n",
    "        'story': 'llm_call_1',\n",
    "        'joke': 'llm_call_2',\n",
    "        'poem': 'llm_call_3',\n",
    "    }\n",
    ")\n",
    "graph.add_edge('llm_call_1',END)\n",
    "graph.add_edge('llm_call_2',END)\n",
    "graph.add_edge('llm_call_3',END)\n",
    "\n",
    "graph = graph.compile()\n",
    "\n",
    "display(Image(graph.get_graph().draw_mermaid_png()))\n",
    "\n"
   ]
  },
  {
   "cell_type": "code",
   "execution_count": 113,
   "id": "e4b12d72",
   "metadata": {},
   "outputs": [],
   "source": [
    "state = graph.invoke({\n",
    "    \"input\": \"Write a joke about a robot learning to love\"\n",
    "})"
   ]
  },
  {
   "cell_type": "code",
   "execution_count": 114,
   "id": "c0153466",
   "metadata": {},
   "outputs": [
    {
     "data": {
      "text/plain": [
       "{'input': 'Write a joke about a robot learning to love',\n",
       " 'decision': 'joke',\n",
       " 'output': \"Why did the robot go on a dating app to learn to love?\\n\\nBecause it was looking for a 'charged' connection and wanted to 'reboot' its heart.\"}"
      ]
     },
     "execution_count": 114,
     "metadata": {},
     "output_type": "execute_result"
    }
   ],
   "source": [
    "state"
   ]
  },
  {
   "cell_type": "code",
   "execution_count": null,
   "id": "7685a9fb",
   "metadata": {},
   "outputs": [],
   "source": []
  }
 ],
 "metadata": {
  "kernelspec": {
   "display_name": ".venv",
   "language": "python",
   "name": "python3"
  },
  "language_info": {
   "codemirror_mode": {
    "name": "ipython",
    "version": 3
   },
   "file_extension": ".py",
   "mimetype": "text/x-python",
   "name": "python",
   "nbconvert_exporter": "python",
   "pygments_lexer": "ipython3",
   "version": "3.13.3"
  }
 },
 "nbformat": 4,
 "nbformat_minor": 5
}
